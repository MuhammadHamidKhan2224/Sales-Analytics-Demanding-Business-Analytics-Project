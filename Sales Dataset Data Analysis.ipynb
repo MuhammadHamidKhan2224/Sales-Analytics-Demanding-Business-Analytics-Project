{
 "cells": [
  {
   "cell_type": "markdown",
   "id": "41a4e3bc-04e6-4b1f-8c06-116a4eb2efe6",
   "metadata": {},
   "source": [
    "###  Muhamma"
   ]
  },
  {
   "cell_type": "markdown",
   "id": "129a41f5-21e5-4f2b-80db-91d74dbeaf17",
   "metadata": {},
   "source": [
    "# Importing Necessary Libraries"
   ]
  },
  {
   "cell_type": "code",
   "execution_count": 9,
   "id": "4f663f11-4df6-49e4-b3f8-b153d9d2086e",
   "metadata": {},
   "outputs": [],
   "source": [
    "import pandas as pd\n",
    "import numpy as np\n",
    "import matplotlib.pyplot as plt\n",
    "import seaborn as sns"
   ]
  },
  {
   "cell_type": "markdown",
   "id": "61cc85fe-39e3-43de-9a61-6410b92d30be",
   "metadata": {},
   "source": [
    "# Loading the Dataset"
   ]
  },
  {
   "cell_type": "code",
   "execution_count": 10,
   "id": "4b57407c-a8a5-4bb4-99d9-68ca31134d91",
   "metadata": {},
   "outputs": [],
   "source": [
    "data = pd.read_csv('sales_data.csv')"
   ]
  },
  {
   "cell_type": "markdown",
   "id": "a64d0fbf-334e-4e25-a9a4-a5f4984cab85",
   "metadata": {},
   "source": [
    "### Glimpse of the dataset"
   ]
  },
  {
   "cell_type": "code",
   "execution_count": 13,
   "id": "ca20ac69-c27f-4355-bdec-1da649dec25d",
   "metadata": {},
   "outputs": [
    {
     "data": {
      "text/html": [
       "<div>\n",
       "<style scoped>\n",
       "    .dataframe tbody tr th:only-of-type {\n",
       "        vertical-align: middle;\n",
       "    }\n",
       "\n",
       "    .dataframe tbody tr th {\n",
       "        vertical-align: top;\n",
       "    }\n",
       "\n",
       "    .dataframe thead th {\n",
       "        text-align: right;\n",
       "    }\n",
       "</style>\n",
       "<table border=\"1\" class=\"dataframe\">\n",
       "  <thead>\n",
       "    <tr style=\"text-align: right;\">\n",
       "      <th></th>\n",
       "      <th>Date</th>\n",
       "      <th>Day</th>\n",
       "      <th>Month</th>\n",
       "      <th>Year</th>\n",
       "      <th>Customer_Age</th>\n",
       "      <th>Age_Group</th>\n",
       "      <th>Customer_Gender</th>\n",
       "      <th>Country</th>\n",
       "      <th>State</th>\n",
       "      <th>Product_Category</th>\n",
       "      <th>Sub_Category</th>\n",
       "      <th>Product</th>\n",
       "      <th>Order_Quantity</th>\n",
       "      <th>Unit_Cost</th>\n",
       "      <th>Unit_Price</th>\n",
       "      <th>Profit</th>\n",
       "      <th>Cost</th>\n",
       "      <th>Revenue</th>\n",
       "    </tr>\n",
       "  </thead>\n",
       "  <tbody>\n",
       "    <tr>\n",
       "      <th>0</th>\n",
       "      <td>2013-11-26</td>\n",
       "      <td>26</td>\n",
       "      <td>November</td>\n",
       "      <td>2013</td>\n",
       "      <td>19</td>\n",
       "      <td>Youth (&lt;25)</td>\n",
       "      <td>M</td>\n",
       "      <td>Canada</td>\n",
       "      <td>British Columbia</td>\n",
       "      <td>Accessories</td>\n",
       "      <td>Bike Racks</td>\n",
       "      <td>Hitch Rack - 4-Bike</td>\n",
       "      <td>8</td>\n",
       "      <td>45</td>\n",
       "      <td>120</td>\n",
       "      <td>590</td>\n",
       "      <td>360</td>\n",
       "      <td>950</td>\n",
       "    </tr>\n",
       "    <tr>\n",
       "      <th>1</th>\n",
       "      <td>2015-11-26</td>\n",
       "      <td>26</td>\n",
       "      <td>November</td>\n",
       "      <td>2015</td>\n",
       "      <td>19</td>\n",
       "      <td>Youth (&lt;25)</td>\n",
       "      <td>M</td>\n",
       "      <td>Canada</td>\n",
       "      <td>British Columbia</td>\n",
       "      <td>Accessories</td>\n",
       "      <td>Bike Racks</td>\n",
       "      <td>Hitch Rack - 4-Bike</td>\n",
       "      <td>8</td>\n",
       "      <td>45</td>\n",
       "      <td>120</td>\n",
       "      <td>590</td>\n",
       "      <td>360</td>\n",
       "      <td>950</td>\n",
       "    </tr>\n",
       "    <tr>\n",
       "      <th>2</th>\n",
       "      <td>2014-03-23</td>\n",
       "      <td>23</td>\n",
       "      <td>March</td>\n",
       "      <td>2014</td>\n",
       "      <td>49</td>\n",
       "      <td>Adults (35-64)</td>\n",
       "      <td>M</td>\n",
       "      <td>Australia</td>\n",
       "      <td>New South Wales</td>\n",
       "      <td>Accessories</td>\n",
       "      <td>Bike Racks</td>\n",
       "      <td>Hitch Rack - 4-Bike</td>\n",
       "      <td>23</td>\n",
       "      <td>45</td>\n",
       "      <td>120</td>\n",
       "      <td>1366</td>\n",
       "      <td>1035</td>\n",
       "      <td>2401</td>\n",
       "    </tr>\n",
       "    <tr>\n",
       "      <th>3</th>\n",
       "      <td>2016-03-23</td>\n",
       "      <td>23</td>\n",
       "      <td>March</td>\n",
       "      <td>2016</td>\n",
       "      <td>49</td>\n",
       "      <td>Adults (35-64)</td>\n",
       "      <td>M</td>\n",
       "      <td>Australia</td>\n",
       "      <td>New South Wales</td>\n",
       "      <td>Accessories</td>\n",
       "      <td>Bike Racks</td>\n",
       "      <td>Hitch Rack - 4-Bike</td>\n",
       "      <td>20</td>\n",
       "      <td>45</td>\n",
       "      <td>120</td>\n",
       "      <td>1188</td>\n",
       "      <td>900</td>\n",
       "      <td>2088</td>\n",
       "    </tr>\n",
       "    <tr>\n",
       "      <th>4</th>\n",
       "      <td>2014-05-15</td>\n",
       "      <td>15</td>\n",
       "      <td>May</td>\n",
       "      <td>2014</td>\n",
       "      <td>47</td>\n",
       "      <td>Adults (35-64)</td>\n",
       "      <td>F</td>\n",
       "      <td>Australia</td>\n",
       "      <td>New South Wales</td>\n",
       "      <td>Accessories</td>\n",
       "      <td>Bike Racks</td>\n",
       "      <td>Hitch Rack - 4-Bike</td>\n",
       "      <td>4</td>\n",
       "      <td>45</td>\n",
       "      <td>120</td>\n",
       "      <td>238</td>\n",
       "      <td>180</td>\n",
       "      <td>418</td>\n",
       "    </tr>\n",
       "  </tbody>\n",
       "</table>\n",
       "</div>"
      ],
      "text/plain": [
       "         Date  Day     Month  Year  Customer_Age       Age_Group  \\\n",
       "0  2013-11-26   26  November  2013            19     Youth (<25)   \n",
       "1  2015-11-26   26  November  2015            19     Youth (<25)   \n",
       "2  2014-03-23   23     March  2014            49  Adults (35-64)   \n",
       "3  2016-03-23   23     March  2016            49  Adults (35-64)   \n",
       "4  2014-05-15   15       May  2014            47  Adults (35-64)   \n",
       "\n",
       "  Customer_Gender    Country             State Product_Category Sub_Category  \\\n",
       "0               M     Canada  British Columbia      Accessories   Bike Racks   \n",
       "1               M     Canada  British Columbia      Accessories   Bike Racks   \n",
       "2               M  Australia   New South Wales      Accessories   Bike Racks   \n",
       "3               M  Australia   New South Wales      Accessories   Bike Racks   \n",
       "4               F  Australia   New South Wales      Accessories   Bike Racks   \n",
       "\n",
       "               Product  Order_Quantity  Unit_Cost  Unit_Price  Profit  Cost  \\\n",
       "0  Hitch Rack - 4-Bike               8         45         120     590   360   \n",
       "1  Hitch Rack - 4-Bike               8         45         120     590   360   \n",
       "2  Hitch Rack - 4-Bike              23         45         120    1366  1035   \n",
       "3  Hitch Rack - 4-Bike              20         45         120    1188   900   \n",
       "4  Hitch Rack - 4-Bike               4         45         120     238   180   \n",
       "\n",
       "   Revenue  \n",
       "0      950  \n",
       "1      950  \n",
       "2     2401  \n",
       "3     2088  \n",
       "4      418  "
      ]
     },
     "execution_count": 13,
     "metadata": {},
     "output_type": "execute_result"
    }
   ],
   "source": [
    "data.head()"
   ]
  },
  {
   "cell_type": "code",
   "execution_count": 15,
   "id": "3f3fd37f-a6ae-4f7d-8fd1-14661bb031c8",
   "metadata": {},
   "outputs": [
    {
     "data": {
      "text/html": [
       "<div>\n",
       "<style scoped>\n",
       "    .dataframe tbody tr th:only-of-type {\n",
       "        vertical-align: middle;\n",
       "    }\n",
       "\n",
       "    .dataframe tbody tr th {\n",
       "        vertical-align: top;\n",
       "    }\n",
       "\n",
       "    .dataframe thead th {\n",
       "        text-align: right;\n",
       "    }\n",
       "</style>\n",
       "<table border=\"1\" class=\"dataframe\">\n",
       "  <thead>\n",
       "    <tr style=\"text-align: right;\">\n",
       "      <th></th>\n",
       "      <th>Date</th>\n",
       "      <th>Day</th>\n",
       "      <th>Month</th>\n",
       "      <th>Year</th>\n",
       "      <th>Customer_Age</th>\n",
       "      <th>Age_Group</th>\n",
       "      <th>Customer_Gender</th>\n",
       "      <th>Country</th>\n",
       "      <th>State</th>\n",
       "      <th>Product_Category</th>\n",
       "      <th>Sub_Category</th>\n",
       "      <th>Product</th>\n",
       "      <th>Order_Quantity</th>\n",
       "      <th>Unit_Cost</th>\n",
       "      <th>Unit_Price</th>\n",
       "      <th>Profit</th>\n",
       "      <th>Cost</th>\n",
       "      <th>Revenue</th>\n",
       "    </tr>\n",
       "  </thead>\n",
       "  <tbody>\n",
       "    <tr>\n",
       "      <th>113031</th>\n",
       "      <td>2016-04-12</td>\n",
       "      <td>12</td>\n",
       "      <td>April</td>\n",
       "      <td>2016</td>\n",
       "      <td>41</td>\n",
       "      <td>Adults (35-64)</td>\n",
       "      <td>M</td>\n",
       "      <td>United Kingdom</td>\n",
       "      <td>England</td>\n",
       "      <td>Clothing</td>\n",
       "      <td>Vests</td>\n",
       "      <td>Classic Vest, S</td>\n",
       "      <td>3</td>\n",
       "      <td>24</td>\n",
       "      <td>64</td>\n",
       "      <td>112</td>\n",
       "      <td>72</td>\n",
       "      <td>184</td>\n",
       "    </tr>\n",
       "    <tr>\n",
       "      <th>113032</th>\n",
       "      <td>2014-04-02</td>\n",
       "      <td>2</td>\n",
       "      <td>April</td>\n",
       "      <td>2014</td>\n",
       "      <td>18</td>\n",
       "      <td>Youth (&lt;25)</td>\n",
       "      <td>M</td>\n",
       "      <td>Australia</td>\n",
       "      <td>Queensland</td>\n",
       "      <td>Clothing</td>\n",
       "      <td>Vests</td>\n",
       "      <td>Classic Vest, M</td>\n",
       "      <td>22</td>\n",
       "      <td>24</td>\n",
       "      <td>64</td>\n",
       "      <td>655</td>\n",
       "      <td>528</td>\n",
       "      <td>1183</td>\n",
       "    </tr>\n",
       "    <tr>\n",
       "      <th>113033</th>\n",
       "      <td>2016-04-02</td>\n",
       "      <td>2</td>\n",
       "      <td>April</td>\n",
       "      <td>2016</td>\n",
       "      <td>18</td>\n",
       "      <td>Youth (&lt;25)</td>\n",
       "      <td>M</td>\n",
       "      <td>Australia</td>\n",
       "      <td>Queensland</td>\n",
       "      <td>Clothing</td>\n",
       "      <td>Vests</td>\n",
       "      <td>Classic Vest, M</td>\n",
       "      <td>22</td>\n",
       "      <td>24</td>\n",
       "      <td>64</td>\n",
       "      <td>655</td>\n",
       "      <td>528</td>\n",
       "      <td>1183</td>\n",
       "    </tr>\n",
       "    <tr>\n",
       "      <th>113034</th>\n",
       "      <td>2014-03-04</td>\n",
       "      <td>4</td>\n",
       "      <td>March</td>\n",
       "      <td>2014</td>\n",
       "      <td>37</td>\n",
       "      <td>Adults (35-64)</td>\n",
       "      <td>F</td>\n",
       "      <td>France</td>\n",
       "      <td>Seine (Paris)</td>\n",
       "      <td>Clothing</td>\n",
       "      <td>Vests</td>\n",
       "      <td>Classic Vest, L</td>\n",
       "      <td>24</td>\n",
       "      <td>24</td>\n",
       "      <td>64</td>\n",
       "      <td>684</td>\n",
       "      <td>576</td>\n",
       "      <td>1260</td>\n",
       "    </tr>\n",
       "    <tr>\n",
       "      <th>113035</th>\n",
       "      <td>2016-03-04</td>\n",
       "      <td>4</td>\n",
       "      <td>March</td>\n",
       "      <td>2016</td>\n",
       "      <td>37</td>\n",
       "      <td>Adults (35-64)</td>\n",
       "      <td>F</td>\n",
       "      <td>France</td>\n",
       "      <td>Seine (Paris)</td>\n",
       "      <td>Clothing</td>\n",
       "      <td>Vests</td>\n",
       "      <td>Classic Vest, L</td>\n",
       "      <td>23</td>\n",
       "      <td>24</td>\n",
       "      <td>64</td>\n",
       "      <td>655</td>\n",
       "      <td>552</td>\n",
       "      <td>1207</td>\n",
       "    </tr>\n",
       "  </tbody>\n",
       "</table>\n",
       "</div>"
      ],
      "text/plain": [
       "              Date  Day  Month  Year  Customer_Age       Age_Group  \\\n",
       "113031  2016-04-12   12  April  2016            41  Adults (35-64)   \n",
       "113032  2014-04-02    2  April  2014            18     Youth (<25)   \n",
       "113033  2016-04-02    2  April  2016            18     Youth (<25)   \n",
       "113034  2014-03-04    4  March  2014            37  Adults (35-64)   \n",
       "113035  2016-03-04    4  March  2016            37  Adults (35-64)   \n",
       "\n",
       "       Customer_Gender         Country          State Product_Category  \\\n",
       "113031               M  United Kingdom        England         Clothing   \n",
       "113032               M       Australia     Queensland         Clothing   \n",
       "113033               M       Australia     Queensland         Clothing   \n",
       "113034               F          France  Seine (Paris)         Clothing   \n",
       "113035               F          France  Seine (Paris)         Clothing   \n",
       "\n",
       "       Sub_Category          Product  Order_Quantity  Unit_Cost  Unit_Price  \\\n",
       "113031        Vests  Classic Vest, S               3         24          64   \n",
       "113032        Vests  Classic Vest, M              22         24          64   \n",
       "113033        Vests  Classic Vest, M              22         24          64   \n",
       "113034        Vests  Classic Vest, L              24         24          64   \n",
       "113035        Vests  Classic Vest, L              23         24          64   \n",
       "\n",
       "        Profit  Cost  Revenue  \n",
       "113031     112    72      184  \n",
       "113032     655   528     1183  \n",
       "113033     655   528     1183  \n",
       "113034     684   576     1260  \n",
       "113035     655   552     1207  "
      ]
     },
     "execution_count": 15,
     "metadata": {},
     "output_type": "execute_result"
    }
   ],
   "source": [
    "data.tail()"
   ]
  },
  {
   "cell_type": "markdown",
   "id": "cfce3f81-ebad-4923-8a2a-6de3a793faee",
   "metadata": {},
   "source": [
    "# Data Preprocessing and Feature Engineering "
   ]
  },
  {
   "cell_type": "markdown",
   "id": "79e4426e-cc62-409d-93d0-2fd93840300a",
   "metadata": {},
   "source": [
    "### Checking missing values "
   ]
  },
  {
   "cell_type": "code",
   "execution_count": 17,
   "id": "2f5fb915-3141-48bc-ae9f-efb49118713b",
   "metadata": {},
   "outputs": [
    {
     "data": {
      "text/plain": [
       "Date                0\n",
       "Day                 0\n",
       "Month               0\n",
       "Year                0\n",
       "Customer_Age        0\n",
       "Age_Group           0\n",
       "Customer_Gender     0\n",
       "Country             0\n",
       "State               0\n",
       "Product_Category    0\n",
       "Sub_Category        0\n",
       "Product             0\n",
       "Order_Quantity      0\n",
       "Unit_Cost           0\n",
       "Unit_Price          0\n",
       "Profit              0\n",
       "Cost                0\n",
       "Revenue             0\n",
       "dtype: int64"
      ]
     },
     "execution_count": 17,
     "metadata": {},
     "output_type": "execute_result"
    }
   ],
   "source": [
    "data.isnull().sum()"
   ]
  },
  {
   "cell_type": "markdown",
   "id": "e0cb55c1-397b-48f8-b1c1-7252726fc463",
   "metadata": {},
   "source": [
    "### Descriptive Statistics "
   ]
  },
  {
   "cell_type": "markdown",
   "id": "bf6c797d-ea5f-4c31-9981-11fd2b35d39f",
   "metadata": {},
   "source": [
    "#### Numerical Columns "
   ]
  },
  {
   "cell_type": "code",
   "execution_count": 23,
   "id": "3ae441af-a2ef-49f7-b337-55e892fd777f",
   "metadata": {},
   "outputs": [
    {
     "data": {
      "text/html": [
       "<div>\n",
       "<style scoped>\n",
       "    .dataframe tbody tr th:only-of-type {\n",
       "        vertical-align: middle;\n",
       "    }\n",
       "\n",
       "    .dataframe tbody tr th {\n",
       "        vertical-align: top;\n",
       "    }\n",
       "\n",
       "    .dataframe thead th {\n",
       "        text-align: right;\n",
       "    }\n",
       "</style>\n",
       "<table border=\"1\" class=\"dataframe\">\n",
       "  <thead>\n",
       "    <tr style=\"text-align: right;\">\n",
       "      <th></th>\n",
       "      <th>count</th>\n",
       "      <th>mean</th>\n",
       "      <th>std</th>\n",
       "      <th>min</th>\n",
       "      <th>25%</th>\n",
       "      <th>50%</th>\n",
       "      <th>75%</th>\n",
       "      <th>max</th>\n",
       "    </tr>\n",
       "  </thead>\n",
       "  <tbody>\n",
       "    <tr>\n",
       "      <th>Day</th>\n",
       "      <td>113036.0</td>\n",
       "      <td>15.665753</td>\n",
       "      <td>8.781567</td>\n",
       "      <td>1.0</td>\n",
       "      <td>8.0</td>\n",
       "      <td>16.0</td>\n",
       "      <td>23.0</td>\n",
       "      <td>31.0</td>\n",
       "    </tr>\n",
       "    <tr>\n",
       "      <th>Year</th>\n",
       "      <td>113036.0</td>\n",
       "      <td>2014.401739</td>\n",
       "      <td>1.272510</td>\n",
       "      <td>2011.0</td>\n",
       "      <td>2013.0</td>\n",
       "      <td>2014.0</td>\n",
       "      <td>2016.0</td>\n",
       "      <td>2016.0</td>\n",
       "    </tr>\n",
       "    <tr>\n",
       "      <th>Customer_Age</th>\n",
       "      <td>113036.0</td>\n",
       "      <td>35.919212</td>\n",
       "      <td>11.021936</td>\n",
       "      <td>17.0</td>\n",
       "      <td>28.0</td>\n",
       "      <td>35.0</td>\n",
       "      <td>43.0</td>\n",
       "      <td>87.0</td>\n",
       "    </tr>\n",
       "    <tr>\n",
       "      <th>Order_Quantity</th>\n",
       "      <td>113036.0</td>\n",
       "      <td>11.901660</td>\n",
       "      <td>9.561857</td>\n",
       "      <td>1.0</td>\n",
       "      <td>2.0</td>\n",
       "      <td>10.0</td>\n",
       "      <td>20.0</td>\n",
       "      <td>32.0</td>\n",
       "    </tr>\n",
       "    <tr>\n",
       "      <th>Unit_Cost</th>\n",
       "      <td>113036.0</td>\n",
       "      <td>267.296366</td>\n",
       "      <td>549.835483</td>\n",
       "      <td>1.0</td>\n",
       "      <td>2.0</td>\n",
       "      <td>9.0</td>\n",
       "      <td>42.0</td>\n",
       "      <td>2171.0</td>\n",
       "    </tr>\n",
       "    <tr>\n",
       "      <th>Unit_Price</th>\n",
       "      <td>113036.0</td>\n",
       "      <td>452.938427</td>\n",
       "      <td>922.071219</td>\n",
       "      <td>2.0</td>\n",
       "      <td>5.0</td>\n",
       "      <td>24.0</td>\n",
       "      <td>70.0</td>\n",
       "      <td>3578.0</td>\n",
       "    </tr>\n",
       "    <tr>\n",
       "      <th>Profit</th>\n",
       "      <td>113036.0</td>\n",
       "      <td>285.051665</td>\n",
       "      <td>453.887443</td>\n",
       "      <td>-30.0</td>\n",
       "      <td>29.0</td>\n",
       "      <td>101.0</td>\n",
       "      <td>358.0</td>\n",
       "      <td>15096.0</td>\n",
       "    </tr>\n",
       "    <tr>\n",
       "      <th>Cost</th>\n",
       "      <td>113036.0</td>\n",
       "      <td>469.318695</td>\n",
       "      <td>884.866118</td>\n",
       "      <td>1.0</td>\n",
       "      <td>28.0</td>\n",
       "      <td>108.0</td>\n",
       "      <td>432.0</td>\n",
       "      <td>42978.0</td>\n",
       "    </tr>\n",
       "    <tr>\n",
       "      <th>Revenue</th>\n",
       "      <td>113036.0</td>\n",
       "      <td>754.370360</td>\n",
       "      <td>1309.094674</td>\n",
       "      <td>2.0</td>\n",
       "      <td>63.0</td>\n",
       "      <td>223.0</td>\n",
       "      <td>800.0</td>\n",
       "      <td>58074.0</td>\n",
       "    </tr>\n",
       "  </tbody>\n",
       "</table>\n",
       "</div>"
      ],
      "text/plain": [
       "                   count         mean          std     min     25%     50%  \\\n",
       "Day             113036.0    15.665753     8.781567     1.0     8.0    16.0   \n",
       "Year            113036.0  2014.401739     1.272510  2011.0  2013.0  2014.0   \n",
       "Customer_Age    113036.0    35.919212    11.021936    17.0    28.0    35.0   \n",
       "Order_Quantity  113036.0    11.901660     9.561857     1.0     2.0    10.0   \n",
       "Unit_Cost       113036.0   267.296366   549.835483     1.0     2.0     9.0   \n",
       "Unit_Price      113036.0   452.938427   922.071219     2.0     5.0    24.0   \n",
       "Profit          113036.0   285.051665   453.887443   -30.0    29.0   101.0   \n",
       "Cost            113036.0   469.318695   884.866118     1.0    28.0   108.0   \n",
       "Revenue         113036.0   754.370360  1309.094674     2.0    63.0   223.0   \n",
       "\n",
       "                   75%      max  \n",
       "Day               23.0     31.0  \n",
       "Year            2016.0   2016.0  \n",
       "Customer_Age      43.0     87.0  \n",
       "Order_Quantity    20.0     32.0  \n",
       "Unit_Cost         42.0   2171.0  \n",
       "Unit_Price        70.0   3578.0  \n",
       "Profit           358.0  15096.0  \n",
       "Cost             432.0  42978.0  \n",
       "Revenue          800.0  58074.0  "
      ]
     },
     "execution_count": 23,
     "metadata": {},
     "output_type": "execute_result"
    }
   ],
   "source": [
    "data.describe().T"
   ]
  },
  {
   "cell_type": "markdown",
   "id": "f93e961d-84e6-4f60-8052-6e4e81b40cd0",
   "metadata": {},
   "source": [
    "#### Categorical Columns"
   ]
  },
  {
   "cell_type": "code",
   "execution_count": 29,
   "id": "2a27ea8a-8d54-48a6-8941-4f7d7bcd7c91",
   "metadata": {},
   "outputs": [
    {
     "data": {
      "text/html": [
       "<div>\n",
       "<style scoped>\n",
       "    .dataframe tbody tr th:only-of-type {\n",
       "        vertical-align: middle;\n",
       "    }\n",
       "\n",
       "    .dataframe tbody tr th {\n",
       "        vertical-align: top;\n",
       "    }\n",
       "\n",
       "    .dataframe thead th {\n",
       "        text-align: right;\n",
       "    }\n",
       "</style>\n",
       "<table border=\"1\" class=\"dataframe\">\n",
       "  <thead>\n",
       "    <tr style=\"text-align: right;\">\n",
       "      <th></th>\n",
       "      <th>count</th>\n",
       "      <th>unique</th>\n",
       "      <th>top</th>\n",
       "      <th>freq</th>\n",
       "    </tr>\n",
       "  </thead>\n",
       "  <tbody>\n",
       "    <tr>\n",
       "      <th>Date</th>\n",
       "      <td>113036</td>\n",
       "      <td>1884</td>\n",
       "      <td>2016-03-01</td>\n",
       "      <td>288</td>\n",
       "    </tr>\n",
       "    <tr>\n",
       "      <th>Month</th>\n",
       "      <td>113036</td>\n",
       "      <td>12</td>\n",
       "      <td>June</td>\n",
       "      <td>11234</td>\n",
       "    </tr>\n",
       "    <tr>\n",
       "      <th>Age_Group</th>\n",
       "      <td>113036</td>\n",
       "      <td>4</td>\n",
       "      <td>Adults (35-64)</td>\n",
       "      <td>55824</td>\n",
       "    </tr>\n",
       "    <tr>\n",
       "      <th>Customer_Gender</th>\n",
       "      <td>113036</td>\n",
       "      <td>2</td>\n",
       "      <td>M</td>\n",
       "      <td>58312</td>\n",
       "    </tr>\n",
       "    <tr>\n",
       "      <th>Country</th>\n",
       "      <td>113036</td>\n",
       "      <td>6</td>\n",
       "      <td>United States</td>\n",
       "      <td>39206</td>\n",
       "    </tr>\n",
       "    <tr>\n",
       "      <th>State</th>\n",
       "      <td>113036</td>\n",
       "      <td>53</td>\n",
       "      <td>California</td>\n",
       "      <td>22450</td>\n",
       "    </tr>\n",
       "    <tr>\n",
       "      <th>Product_Category</th>\n",
       "      <td>113036</td>\n",
       "      <td>3</td>\n",
       "      <td>Accessories</td>\n",
       "      <td>70120</td>\n",
       "    </tr>\n",
       "    <tr>\n",
       "      <th>Sub_Category</th>\n",
       "      <td>113036</td>\n",
       "      <td>17</td>\n",
       "      <td>Tires and Tubes</td>\n",
       "      <td>33870</td>\n",
       "    </tr>\n",
       "    <tr>\n",
       "      <th>Product</th>\n",
       "      <td>113036</td>\n",
       "      <td>130</td>\n",
       "      <td>Water Bottle - 30 oz.</td>\n",
       "      <td>10794</td>\n",
       "    </tr>\n",
       "  </tbody>\n",
       "</table>\n",
       "</div>"
      ],
      "text/plain": [
       "                   count unique                    top   freq\n",
       "Date              113036   1884             2016-03-01    288\n",
       "Month             113036     12                   June  11234\n",
       "Age_Group         113036      4         Adults (35-64)  55824\n",
       "Customer_Gender   113036      2                      M  58312\n",
       "Country           113036      6          United States  39206\n",
       "State             113036     53             California  22450\n",
       "Product_Category  113036      3            Accessories  70120\n",
       "Sub_Category      113036     17        Tires and Tubes  33870\n",
       "Product           113036    130  Water Bottle - 30 oz.  10794"
      ]
     },
     "execution_count": 29,
     "metadata": {},
     "output_type": "execute_result"
    }
   ],
   "source": [
    "data.describe(include = 'O').T"
   ]
  },
  {
   "cell_type": "markdown",
   "id": "05dbc194-5d95-40e9-8b7c-f44dbb300790",
   "metadata": {},
   "source": [
    "### Dimension of the Dataset "
   ]
  },
  {
   "cell_type": "code",
   "execution_count": 35,
   "id": "36e6d801-ef80-4218-9903-d90e16fffc47",
   "metadata": {},
   "outputs": [
    {
     "data": {
      "text/plain": [
       "(113036, 18)"
      ]
     },
     "execution_count": 35,
     "metadata": {},
     "output_type": "execute_result"
    }
   ],
   "source": [
    "data.shape"
   ]
  },
  {
   "cell_type": "markdown",
   "id": "273c6f88-df95-485e-a441-01eb8f0b3a06",
   "metadata": {},
   "source": [
    "### Basic Information of the dataset "
   ]
  },
  {
   "cell_type": "code",
   "execution_count": 38,
   "id": "dfa6d701-65bc-4cd1-a076-fbd061ed3601",
   "metadata": {},
   "outputs": [
    {
     "name": "stdout",
     "output_type": "stream",
     "text": [
      "<class 'pandas.core.frame.DataFrame'>\n",
      "RangeIndex: 113036 entries, 0 to 113035\n",
      "Data columns (total 18 columns):\n",
      " #   Column            Non-Null Count   Dtype \n",
      "---  ------            --------------   ----- \n",
      " 0   Date              113036 non-null  object\n",
      " 1   Day               113036 non-null  int64 \n",
      " 2   Month             113036 non-null  object\n",
      " 3   Year              113036 non-null  int64 \n",
      " 4   Customer_Age      113036 non-null  int64 \n",
      " 5   Age_Group         113036 non-null  object\n",
      " 6   Customer_Gender   113036 non-null  object\n",
      " 7   Country           113036 non-null  object\n",
      " 8   State             113036 non-null  object\n",
      " 9   Product_Category  113036 non-null  object\n",
      " 10  Sub_Category      113036 non-null  object\n",
      " 11  Product           113036 non-null  object\n",
      " 12  Order_Quantity    113036 non-null  int64 \n",
      " 13  Unit_Cost         113036 non-null  int64 \n",
      " 14  Unit_Price        113036 non-null  int64 \n",
      " 15  Profit            113036 non-null  int64 \n",
      " 16  Cost              113036 non-null  int64 \n",
      " 17  Revenue           113036 non-null  int64 \n",
      "dtypes: int64(9), object(9)\n",
      "memory usage: 15.5+ MB\n"
     ]
    }
   ],
   "source": [
    "data.info()"
   ]
  },
  {
   "cell_type": "markdown",
   "id": "78451e5e-a90a-4074-a922-18d87dca5ad6",
   "metadata": {},
   "source": [
    "### Features Name "
   ]
  },
  {
   "cell_type": "code",
   "execution_count": 43,
   "id": "dd5d3542-7ffc-4b6b-9138-085622ec23f9",
   "metadata": {},
   "outputs": [
    {
     "data": {
      "text/plain": [
       "Index(['Date', 'Day', 'Month', 'Year', 'Customer_Age', 'Age_Group',\n",
       "       'Customer_Gender', 'Country', 'State', 'Product_Category',\n",
       "       'Sub_Category', 'Product', 'Order_Quantity', 'Unit_Cost', 'Unit_Price',\n",
       "       'Profit', 'Cost', 'Revenue'],\n",
       "      dtype='object')"
      ]
     },
     "execution_count": 43,
     "metadata": {},
     "output_type": "execute_result"
    }
   ],
   "source": [
    "data.columns"
   ]
  },
  {
   "cell_type": "markdown",
   "id": "85774928-a84a-4604-b5ce-eb02a45b13ab",
   "metadata": {},
   "source": [
    "# Anlysis 01: Total Sales for a specific Product category "
   ]
  },
  {
   "cell_type": "markdown",
   "id": "e4781d94-bd19-420c-ac11-6dfb3e2cbb47",
   "metadata": {},
   "source": [
    "## Revenue for Accessories"
   ]
  },
  {
   "cell_type": "code",
   "execution_count": 26,
   "id": "698e3d6a-c188-4ba8-8e43-42e0f99e629a",
   "metadata": {},
   "outputs": [
    {
     "data": {
      "text/plain": [
       "array(['Accessories', 'Clothing', 'Bikes'], dtype=object)"
      ]
     },
     "execution_count": 26,
     "metadata": {},
     "output_type": "execute_result"
    }
   ],
   "source": [
    "data['Product_Category'].unique()\n"
   ]
  },
  {
   "cell_type": "code",
   "execution_count": 28,
   "id": "3bc8612c-0cd7-48eb-a03f-b3bbdd23c365",
   "metadata": {},
   "outputs": [],
   "source": [
    "prdct_cat = 'Accessories'"
   ]
  },
  {
   "cell_type": "code",
   "execution_count": 30,
   "id": "e1edfc27-8ecc-4ed7-8240-932b994d310e",
   "metadata": {},
   "outputs": [],
   "source": [
    "sals_acc_= data[data['Product_Category'] == prdct_cat]['Revenue'].sum()"
   ]
  },
  {
   "cell_type": "code",
   "execution_count": 32,
   "id": "6ab535e3-0743-43f0-92ca-e617c1968393",
   "metadata": {},
   "outputs": [
    {
     "name": "stdout",
     "output_type": "stream",
     "text": [
      "15117992\n"
     ]
    }
   ],
   "source": [
    "print(sals_acc)"
   ]
  },
  {
   "cell_type": "markdown",
   "id": "3f1dea87-9659-43bc-879c-bbbdea145cb5",
   "metadata": {},
   "source": [
    " ## Revenue for Bike "
   ]
  },
  {
   "cell_type": "code",
   "execution_count": 61,
   "id": "9a1176ef-c4bc-49f4-8255-e2e5a1d9a955",
   "metadata": {},
   "outputs": [],
   "source": [
    "prdct_cat_1= 'Bikes'"
   ]
  },
  {
   "cell_type": "code",
   "execution_count": 65,
   "id": "9157271f-cc58-4352-aa26-80cb5e1332b0",
   "metadata": {},
   "outputs": [],
   "source": [
    "sals_acc_1= data[data['Product_Category'] == prdct_cat_1]['Revenue'].sum()"
   ]
  },
  {
   "cell_type": "code",
   "execution_count": 67,
   "id": "405a94c7-bc36-46b1-92bc-7616d4c4761c",
   "metadata": {},
   "outputs": [
    {
     "name": "stdout",
     "output_type": "stream",
     "text": [
      "61782134\n"
     ]
    }
   ],
   "source": [
    "print(sals_acc_1)"
   ]
  },
  {
   "cell_type": "markdown",
   "id": "9404e93e-6c67-44ae-a9e8-f9308786e492",
   "metadata": {},
   "source": [
    "## Revenue for Clothing "
   ]
  },
  {
   "cell_type": "code",
   "execution_count": 51,
   "id": "e633363b-bc24-45cb-8130-dd068277f431",
   "metadata": {},
   "outputs": [],
   "source": [
    "prdct_cat_3 = 'Clothing'"
   ]
  },
  {
   "cell_type": "code",
   "execution_count": 53,
   "id": "ea820d43-414a-4051-8619-a5a79f00ab31",
   "metadata": {},
   "outputs": [],
   "source": [
    "sales_acc_3 = data[data['Product_Category']== prdct_cat_3]['Revenue'].sum()"
   ]
  },
  {
   "cell_type": "code",
   "execution_count": 59,
   "id": "6c0fb19d-ec2b-41d4-85d9-7f5253f68dd2",
   "metadata": {},
   "outputs": [
    {
     "name": "stdout",
     "output_type": "stream",
     "text": [
      "8370882\n"
     ]
    }
   ],
   "source": [
    "print(sales_acc_3)"
   ]
  },
  {
   "cell_type": "markdown",
   "id": "c0ae7ca6-eb14-475a-a17e-5ccf6f45f988",
   "metadata": {},
   "source": [
    "## Calculate Revenue groupby Product Category  "
   ]
  },
  {
   "cell_type": "code",
   "execution_count": 63,
   "id": "01e53433-71e0-43b5-8ec0-f2d3d70bb8be",
   "metadata": {},
   "outputs": [
    {
     "data": {
      "text/plain": [
       "Index(['Date', 'Day', 'Month', 'Year', 'Customer_Age', 'Age_Group',\n",
       "       'Customer_Gender', 'Country', 'State', 'Product_Category',\n",
       "       'Sub_Category', 'Product', 'Order_Quantity', 'Unit_Cost', 'Unit_Price',\n",
       "       'Profit', 'Cost', 'Revenue'],\n",
       "      dtype='object')"
      ]
     },
     "execution_count": 63,
     "metadata": {},
     "output_type": "execute_result"
    }
   ],
   "source": [
    "data.columns"
   ]
  },
  {
   "cell_type": "code",
   "execution_count": 65,
   "id": "04109ceb-56f8-492a-997d-c6455122f3df",
   "metadata": {},
   "outputs": [
    {
     "name": "stdout",
     "output_type": "stream",
     "text": [
      "Product_Category\n",
      "Accessories    15117992\n",
      "Bikes          61782134\n",
      "Clothing        8370882\n",
      "Name: Revenue, dtype: int64\n"
     ]
    }
   ],
   "source": [
    "rev_by_cat = data.groupby('Product_Category')['Revenue'].sum()\n",
    "print(rev_by_cat )"
   ]
  },
  {
   "cell_type": "markdown",
   "id": "7c12f1f8-961b-462c-bc2e-634a1f589234",
   "metadata": {},
   "source": [
    "## Total Number of transactions for 'Accessories'"
   ]
  },
  {
   "cell_type": "markdown",
   "id": "a7124433-65c7-4a94-976b-2f480790d450",
   "metadata": {},
   "source": [
    "### Uniques values in Product Category "
   ]
  },
  {
   "cell_type": "code",
   "execution_count": 69,
   "id": "faf66b3a-cf2b-4340-8f99-217169668ca2",
   "metadata": {},
   "outputs": [
    {
     "data": {
      "text/plain": [
       "array(['Accessories', 'Clothing', 'Bikes'], dtype=object)"
      ]
     },
     "execution_count": 69,
     "metadata": {},
     "output_type": "execute_result"
    }
   ],
   "source": [
    "data['Product_Category'].unique()"
   ]
  },
  {
   "cell_type": "markdown",
   "id": "3d324eb9-ed3f-427d-a9f2-39289aa379e9",
   "metadata": {},
   "source": [
    "### For Accessories"
   ]
  },
  {
   "cell_type": "code",
   "execution_count": 51,
   "id": "5c2cdc1e-091f-41bd-9150-f26d617c4aa8",
   "metadata": {},
   "outputs": [],
   "source": [
    "ass_trans = len(data[data['Product_Category'] == 'Accessories'])"
   ]
  },
  {
   "cell_type": "code",
   "execution_count": 53,
   "id": "434adeca-5fb0-4bb3-a2aa-68d5ba0337ef",
   "metadata": {},
   "outputs": [
    {
     "name": "stdout",
     "output_type": "stream",
     "text": [
      "70120\n"
     ]
    }
   ],
   "source": [
    "print(ass_trans)"
   ]
  },
  {
   "cell_type": "markdown",
   "id": "96aeae0b-f0de-431a-818f-1d3edee71a33",
   "metadata": {},
   "source": [
    "### For Clothing "
   ]
  },
  {
   "cell_type": "code",
   "execution_count": 73,
   "id": "108ea957-6b6b-497c-9a32-27894bcb226e",
   "metadata": {},
   "outputs": [],
   "source": [
    "cloth_trans = len(data[data['Product_Category'] == 'Clothing'])"
   ]
  },
  {
   "cell_type": "code",
   "execution_count": 75,
   "id": "dd80819a-b838-4d11-b037-768e4b31e8cb",
   "metadata": {},
   "outputs": [
    {
     "name": "stdout",
     "output_type": "stream",
     "text": [
      "16934\n"
     ]
    }
   ],
   "source": [
    "print(cloth_trans)"
   ]
  },
  {
   "cell_type": "markdown",
   "id": "8660d897-7f61-4578-a211-3e5e98e039f7",
   "metadata": {},
   "source": [
    "### For Bikes "
   ]
  },
  {
   "cell_type": "code",
   "execution_count": 78,
   "id": "ca646cb4-f3ee-45ff-ab3a-bb54cef0b803",
   "metadata": {},
   "outputs": [],
   "source": [
    "bike_trans = len(data[data['Product_Category'] == 'Clothing'])"
   ]
  },
  {
   "cell_type": "code",
   "execution_count": 80,
   "id": "d2e8edb2-1bb3-480b-904c-3141efb88769",
   "metadata": {},
   "outputs": [
    {
     "name": "stdout",
     "output_type": "stream",
     "text": [
      "16934\n"
     ]
    }
   ],
   "source": [
    "print(bike_trans)"
   ]
  },
  {
   "cell_type": "markdown",
   "id": "c7cead0a-917d-45fb-beaa-5554317acd03",
   "metadata": {},
   "source": [
    "# 02 Sales Trend for a Specific Months"
   ]
  },
  {
   "cell_type": "markdown",
   "id": "4cb31b22-2474-4fa6-85f2-613cfadd2d71",
   "metadata": {},
   "source": [
    "## Total Sales by Each Month"
   ]
  },
  {
   "cell_type": "code",
   "execution_count": 73,
   "id": "d6c883e7-8987-4061-9101-a7a282efe1bb",
   "metadata": {},
   "outputs": [
    {
     "data": {
      "text/plain": [
       "array(['November', 'March', 'May', 'February', 'July', 'August',\n",
       "       'September', 'January', 'December', 'June', 'October', 'April'],\n",
       "      dtype=object)"
      ]
     },
     "execution_count": 73,
     "metadata": {},
     "output_type": "execute_result"
    }
   ],
   "source": [
    "data['Month'].unique()"
   ]
  },
  {
   "cell_type": "markdown",
   "id": "adc1bb0e-9278-410b-a5e2-5ff1a78aba2a",
   "metadata": {},
   "source": [
    "### For March"
   ]
  },
  {
   "cell_type": "code",
   "execution_count": 98,
   "id": "afa1b366-cc16-4e7c-945e-9cee78ccadd9",
   "metadata": {},
   "outputs": [
    {
     "name": "stdout",
     "output_type": "stream",
     "text": [
      "Total sales for March:7347164\n"
     ]
    }
   ],
   "source": [
    "mnth = 'March'\n",
    "rev_march= data[data['Month'] == mnth]['Revenue'].sum()\n",
    "print(f'Total sales for {mnth}:{sales_march}')"
   ]
  },
  {
   "cell_type": "markdown",
   "id": "78d3a1ef-4516-489f-89cf-a58595c56820",
   "metadata": {},
   "source": [
    "### For April"
   ]
  },
  {
   "cell_type": "code",
   "execution_count": 100,
   "id": "ad93caa2-41ad-4899-98f7-ddadb418218c",
   "metadata": {},
   "outputs": [
    {
     "name": "stdout",
     "output_type": "stream",
     "text": [
      "Total sales for April:7602750\n"
     ]
    }
   ],
   "source": [
    "mnth = 'April'\n",
    "rev_april = data[data['Month'] == mnth]['Revenue'].sum()\n",
    "print(f'Total sales for {mnth}:{sales_april}')"
   ]
  },
  {
   "cell_type": "markdown",
   "id": "bef78eae-1dbd-4e5f-a0f1-6e55cfa53b33",
   "metadata": {},
   "source": [
    "### For September"
   ]
  },
  {
   "cell_type": "code",
   "execution_count": 102,
   "id": "3108d790-15a2-46dc-a802-8629d8383cdf",
   "metadata": {},
   "outputs": [
    {
     "name": "stdout",
     "output_type": "stream",
     "text": [
      "Total sales for September:5841885\n"
     ]
    }
   ],
   "source": [
    "mnth = 'September'\n",
    "rev_sep= data[data['Month'] == mnth]['Revenue'].sum()\n",
    "print(f'Total sales for {mnth}:{sales_sep}')"
   ]
  },
  {
   "cell_type": "markdown",
   "id": "371ffd9c-66af-43f4-bb07-fe7663bf85d5",
   "metadata": {},
   "source": [
    "## Compare revenure for month for martch and september"
   ]
  },
  {
   "cell_type": "code",
   "execution_count": 96,
   "id": "1179e2bd-242b-4e54-a1aa-b167bc5c3ef9",
   "metadata": {},
   "outputs": [],
   "source": [
    "months = ['March', 'September'] "
   ]
  },
  {
   "cell_type": "code",
   "execution_count": 108,
   "id": "560501bf-7de8-45d3-8180-caa1433d37c5",
   "metadata": {},
   "outputs": [
    {
     "data": {
      "image/png": "[encoded data removed]",
      "text/plain": [
       "<Figure size 400x200 with 1 Axes>"
      ]
     },
     "metadata": {},
     "output_type": "display_data"
    }
   ],
   "source": [
    "rev = [rev_march, rev_sep]\n",
    "plt.figure(figsize=(4, 2))\n",
    "plt.bar(months, rev, color=['gray', 'pink'])\n",
    "plt.xlabel(\"Months\")\n",
    "plt.ylabel(\"Total Revenues\")\n",
    "plt.title(\"Revenue Comparison: March and September\")\n",
    "plt.show()"
   ]
  },
  {
   "cell_type": "markdown",
   "id": "ac13f57d-af96-4786-afcb-3a7c7e222c92",
   "metadata": {},
   "source": [
    "## Calculate the Average Revenue in March  "
   ]
  },
  {
   "cell_type": "code",
   "execution_count": 122,
   "id": "b08ed739-acc4-4fb6-a856-8b03147a24eb",
   "metadata": {},
   "outputs": [
    {
     "name": "stdout",
     "output_type": "stream",
     "text": [
      "Average sales for March:759.4752946040934\n"
     ]
    }
   ],
   "source": [
    "mnth = 'March'\n",
    "avg_rev_march= data[data['Month'] == mnth]['Revenue'].mean()\n",
    "print(f'Average sales for {mnth}:{avg_rev_march}')"
   ]
  },
  {
   "cell_type": "markdown",
   "id": "798bb3c2-8b3d-471f-81de-854de3eaf68b",
   "metadata": {},
   "source": [
    "##  Month with highest Total Revenue"
   ]
  },
  {
   "cell_type": "code",
   "execution_count": 128,
   "id": "333cef1e-c802-42e6-ab1c-6b33ae99224f",
   "metadata": {},
   "outputs": [],
   "source": [
    "mnth_rev = {}\n",
    "for mnth in data['Month'].unique():\n",
    "    mnth_rev[mnth] = data[data['Month'] == mnth]['Revenue'].sum()\n"
   ]
  },
  {
   "cell_type": "code",
   "execution_count": 132,
   "id": "efb5b008-bfa4-4f79-83fa-6ff168b91ff2",
   "metadata": {},
   "outputs": [
    {
     "data": {
      "text/plain": [
       "'December'"
      ]
     },
     "execution_count": 132,
     "metadata": {},
     "output_type": "execute_result"
    }
   ],
   "source": [
    "highest_mnth_rev = max(mnth_rev, key = mnth_rev.get)\n",
    "highest_mnth_rev"
   ]
  },
  {
   "cell_type": "code",
   "execution_count": 136,
   "id": "f3508ac8-926f-416f-93e8-ffe878134f51",
   "metadata": {},
   "outputs": [
    {
     "data": {
      "text/plain": [
       "9086931"
      ]
     },
     "execution_count": 136,
     "metadata": {},
     "output_type": "execute_result"
    }
   ],
   "source": [
    "high_rev = mnth_rev[highest_mnth_rev]\n",
    "high_rev "
   ]
  },
  {
   "cell_type": "code",
   "execution_count": 138,
   "id": "dd6121a3-f0b9-4749-8d08-a06e3fd64690",
   "metadata": {},
   "outputs": [
    {
     "name": "stdout",
     "output_type": "stream",
     "text": [
      "The month with highest total revenue is December with $9086931\n"
     ]
    }
   ],
   "source": [
    "print(f'The month with highest total revenue is {highest_mnth_rev} with ${high_rev}')"
   ]
  },
  {
   "cell_type": "markdown",
   "id": "fb168012-160a-4ba3-a5f2-b4f90207ec09",
   "metadata": {},
   "source": [
    "## Identify which month had the highest total revenue using groupby"
   ]
  },
  {
   "cell_type": "code",
   "execution_count": 143,
   "id": "1be1aa44-2366-4eb0-9ddb-80ceb9df1419",
   "metadata": {},
   "outputs": [
    {
     "name": "stdout",
     "output_type": "stream",
     "text": [
      "\n",
      "The month with the highest total revenue is December with $9086931.00\n"
     ]
    }
   ],
   "source": [
    "revenue_by_month = data.groupby('Month')['Revenue'].sum()\n",
    "highest_revenue_month = revenue_by_month.idxmax()\n",
    "highest_revenue = revenue_by_month.max()\n",
    "\n",
    "print(f\"\\nThe month with the highest total revenue is {highest_revenue_month} with ${highest_revenue:.2f}\")\n"
   ]
  },
  {
   "cell_type": "markdown",
   "id": "da22f1f1-a87d-4d16-876a-d7f1b019af95",
   "metadata": {},
   "source": [
    "## Identify which month had the highest total revenue (without groupby)"
   ]
  },
  {
   "cell_type": "code",
   "execution_count": 107,
   "id": "dc278c99-8b16-4fb3-abc3-265796f35f5b",
   "metadata": {},
   "outputs": [
    {
     "name": "stdout",
     "output_type": "stream",
     "text": [
      "\n",
      "The month with the highest total revenue is December with 9086931.00\n"
     ]
    }
   ],
   "source": [
    "monthly_revenue = {}\n",
    "for month in data['Month'].unique():\n",
    "    monthly_revenue[month] = data[data['Month'] == month]['Revenue'].sum()\n",
    "\n",
    "highest_revenue_month = max(monthly_revenue, key=monthly_revenue.get)\n",
    "highest_revenue = monthly_revenue[highest_revenue_month]\n",
    "\n",
    "print(f\"\\nThe month with the highest total revenue is {highest_revenue_month} with {highest_revenue:.2f}\")\n"
   ]
  },
  {
   "cell_type": "markdown",
   "id": "e0c82e8f-e1d6-4451-8b63-ad653ce58f7d",
   "metadata": {},
   "source": [
    "## Sales by Countary "
   ]
  },
  {
   "cell_type": "markdown",
   "id": "85ee223c-a328-4376-9a0f-61cdae2fadc1",
   "metadata": {},
   "source": [
    "## List all countries along with their total revenue."
   ]
  },
  {
   "cell_type": "code",
   "execution_count": 151,
   "id": "fa5e2892-97a3-4fac-9f67-3c385043a7f2",
   "metadata": {},
   "outputs": [
    {
     "name": "stdout",
     "output_type": "stream",
     "text": [
      "\n",
      "Total revenue for each country:\n"
     ]
    },
    {
     "data": {
      "text/plain": [
       "Country\n",
       "Australia         21302059\n",
       "Canada             7935738\n",
       "France             8432872\n",
       "Germany            8978596\n",
       "United Kingdom    10646196\n",
       "United States     27975547\n",
       "Name: Revenue, dtype: int64"
      ]
     },
     "execution_count": 151,
     "metadata": {},
     "output_type": "execute_result"
    }
   ],
   "source": [
    "revenue_by_country = data.groupby('Country')['Revenue'].sum()\n",
    "print(\"\\nTotal revenue for each country:\")\n",
    "revenue_by_country"
   ]
  },
  {
   "cell_type": "markdown",
   "id": "34e9482a-0455-4575-9709-7deab9e47154",
   "metadata": {},
   "source": [
    "## Find the country with the lowest total revenue."
   ]
  },
  {
   "cell_type": "code",
   "execution_count": 156,
   "id": "36fe7075-3946-400d-9b29-d30d37eed653",
   "metadata": {},
   "outputs": [
    {
     "name": "stdout",
     "output_type": "stream",
     "text": [
      "\n",
      "Country with lowest revenue: Canada\n"
     ]
    }
   ],
   "source": [
    "\n",
    "lowest_revenue_country = data.groupby('Country')['Revenue'].sum().idxmin()\n",
    "print(f\"\\nCountry with lowest revenue: {lowest_revenue_country}\")\n"
   ]
  },
  {
   "cell_type": "markdown",
   "id": "63895181-beaa-492a-ab22-a36e9e1c6e5f",
   "metadata": {},
   "source": [
    "## With Maximum revenue "
   ]
  },
  {
   "cell_type": "code",
   "execution_count": 110,
   "id": "d950e264-ac2e-4dff-8962-efb84a57f05b",
   "metadata": {},
   "outputs": [
    {
     "name": "stdout",
     "output_type": "stream",
     "text": [
      "\n",
      "Country with highest revenue: United States\n"
     ]
    }
   ],
   "source": [
    "highest_revenue_country = data.groupby('Country')['Revenue'].sum().idxmax()\n",
    "print(f\"\\nCountry with highest revenue: {highest_revenue_country}\")\n"
   ]
  },
  {
   "cell_type": "markdown",
   "id": "bb63fd20-ed56-471d-9539-1e709d990f9b",
   "metadata": {},
   "source": [
    "## Plot a bar chart showing the revenue per country."
   ]
  },
  {
   "cell_type": "code",
   "execution_count": 161,
   "id": "d2e83205-50a0-4f76-a744-9aac9fffe3cb",
   "metadata": {},
   "outputs": [
    {
     "data": {
      "image/png": "[encoded data removed]",
      "text/plain": [
       "<Figure size 800x400 with 1 Axes>"
      ]
     },
     "metadata": {},
     "output_type": "display_data"
    }
   ],
   "source": [
    "revenue_by_country = data.groupby('Country')['Revenue'].sum()\n",
    "plt.figure(figsize=(8, 4))  \n",
    "plt.bar(revenue_by_country.index, revenue_by_country.values)\n",
    "plt.xlabel(\"Country\")\n",
    "plt.ylabel(\"Total Revenue\")\n",
    "plt.title(\"Revenue per Country\")\n",
    "plt.xticks(rotation=45, ha='right') \n",
    "plt.tight_layout()  \n",
    "plt.show()"
   ]
  },
  {
   "cell_type": "markdown",
   "id": "28eddfd2-8c8f-44df-a453-c70792c54385",
   "metadata": {},
   "source": [
    "## Calculate the percentage of total revenue from each country."
   ]
  },
  {
   "cell_type": "code",
   "execution_count": 168,
   "id": "c0b6cec7-1fdc-41ce-b2db-ed0764e38f83",
   "metadata": {},
   "outputs": [
    {
     "name": "stdout",
     "output_type": "stream",
     "text": [
      "\n",
      "Percentage of total revenue from each country:\n"
     ]
    },
    {
     "data": {
      "text/plain": [
       "Country\n",
       "Australia         24.981596\n",
       "Canada             9.306490\n",
       "France             9.889495\n",
       "Germany           10.529483\n",
       "United Kingdom    12.485130\n",
       "United States     32.807806\n",
       "Name: Revenue, dtype: float64"
      ]
     },
     "execution_count": 168,
     "metadata": {},
     "output_type": "execute_result"
    }
   ],
   "source": [
    "total_revenue = data['Revenue'].sum()\n",
    "revenue_percentage_by_country = data.groupby('Country')['Revenue'].sum() / total_revenue * 100\n",
    "print(\"\\nPercentage of total revenue from each country:\")\n",
    "revenue_percentage_by_country"
   ]
  },
  {
   "cell_type": "markdown",
   "id": "87253345-d0ac-4276-bfb4-9f2811e48f64",
   "metadata": {},
   "source": [
    "### Filter transactions from a specific country and find their total profit."
   ]
  },
  {
   "cell_type": "code",
   "execution_count": 175,
   "id": "08594ca8-1f00-4a18-ae3d-bd6bdf070f59",
   "metadata": {},
   "outputs": [
    {
     "name": "stdout",
     "output_type": "stream",
     "text": [
      "\n",
      "Total profit for transactions in United Kingdom: 4413853\n"
     ]
    }
   ],
   "source": [
    "country_to_filter = \"United Kingdom\"  \n",
    "uk_transactions = data[data['Country'] == country_to_filter]\n",
    "total_profit_uk = uk_transactions['Profit'].sum()\n",
    "print(f\"\\nTotal profit for transactions in {country_to_filter}: {total_profit_uk}\")"
   ]
  },
  {
   "cell_type": "markdown",
   "id": "f8eeba79-5588-4ab7-b4f0-c81befe4e653",
   "metadata": {},
   "source": [
    "# Analysis 4: Find the day with the highest sales "
   ]
  },
  {
   "cell_type": "markdown",
   "id": "b1c2cc2d-ab34-4c3f-8e4c-19f651542bef",
   "metadata": {},
   "source": [
    "## Find the Day with the Highest Sales"
   ]
  },
  {
   "cell_type": "code",
   "execution_count": 181,
   "id": "dcbadb1c-44af-4e0a-9010-1ff7d8004fc9",
   "metadata": {},
   "outputs": [
    {
     "name": "stdout",
     "output_type": "stream",
     "text": [
      "Index(['Date', 'Day', 'Month', 'Year', 'Customer_Age', 'Age_Group',\n",
      "       'Customer_Gender', 'Country', 'State', 'Product_Category',\n",
      "       'Sub_Category', 'Product', 'Order_Quantity', 'Unit_Cost', 'Unit_Price',\n",
      "       'Profit', 'Cost', 'Revenue'],\n",
      "      dtype='object')\n"
     ]
    }
   ],
   "source": [
    "print(data.columns)\n"
   ]
  },
  {
   "cell_type": "code",
   "execution_count": 185,
   "id": "ed4d3929-1833-4b29-bd29-f6b8e8bd2e09",
   "metadata": {},
   "outputs": [],
   "source": [
    "data['Weekday'] = pd.to_datetime(data['Date']).dt.day_name()  "
   ]
  },
  {
   "cell_type": "code",
   "execution_count": 187,
   "id": "ee2798a0-4af1-4dda-be07-ae364d999463",
   "metadata": {},
   "outputs": [
    {
     "name": "stdout",
     "output_type": "stream",
     "text": [
      "\n",
      "Highest revenue occurred on: Saturday\n"
     ]
    }
   ],
   "source": [
    "best_day = data.groupby('Weekday')['Revenue'].sum().idxmax()\n",
    "print(f\"\\nHighest revenue occurred on: {best_day}\")\n"
   ]
  },
  {
   "cell_type": "markdown",
   "id": "144583b9-b649-4d25-a8fd-2990de0a0b97",
   "metadata": {},
   "source": [
    "##  Print total revenue for each weekday."
   ]
  },
  {
   "cell_type": "code",
   "execution_count": 190,
   "id": "425d74c0-fbc1-48ac-9439-57000b344648",
   "metadata": {},
   "outputs": [
    {
     "name": "stdout",
     "output_type": "stream",
     "text": [
      "\n",
      "Total revenue for each weekday:\n"
     ]
    },
    {
     "data": {
      "text/plain": [
       "Weekday\n",
       "Friday       12129932\n",
       "Monday       12076562\n",
       "Saturday     12560937\n",
       "Sunday       12332954\n",
       "Thursday     11900438\n",
       "Tuesday      11994581\n",
       "Wednesday    12275604\n",
       "Name: Revenue, dtype: int64"
      ]
     },
     "execution_count": 190,
     "metadata": {},
     "output_type": "execute_result"
    }
   ],
   "source": [
    "revenue_by_weekday = data.groupby('Weekday')['Revenue'].sum()\n",
    "print(\"\\nTotal revenue for each weekday:\")\n",
    "revenue_by_weekday\n"
   ]
  },
  {
   "cell_type": "markdown",
   "id": "a02fb914-dfa5-435f-bc95-b61ede27868a",
   "metadata": {},
   "source": [
    "## Find the day with the lowest total revenue."
   ]
  },
  {
   "cell_type": "code",
   "execution_count": 195,
   "id": "1ae9d67d-cd5c-4eed-860a-442b456114b8",
   "metadata": {},
   "outputs": [
    {
     "name": "stdout",
     "output_type": "stream",
     "text": [
      "\n",
      "Lowest revenue occurred on: Thursday\n"
     ]
    }
   ],
   "source": [
    "lowest_revenue_day = data.groupby('Weekday')['Revenue'].sum().idxmin()\n",
    "print(f\"\\nLowest revenue occurred on: {lowest_revenue_day}\")"
   ]
  },
  {
   "cell_type": "markdown",
   "id": "8e90a3b0-112f-4d15-8854-45c6322eddff",
   "metadata": {},
   "source": [
    "## Plot a line chart showing revenue by weekday."
   ]
  },
  {
   "cell_type": "code",
   "execution_count": 201,
   "id": "734a664c-55b6-4271-935c-d3390594c2de",
   "metadata": {},
   "outputs": [
    {
     "data": {
      "image/png": "[encoded data removed]",
      "text/plain": [
       "<Figure size 640x480 with 1 Axes>"
      ]
     },
     "metadata": {},
     "output_type": "display_data"
    }
   ],
   "source": [
    "plt.plot(data.groupby('Weekday')['Revenue'].sum())\n",
    "plt.xlabel('Weekday')\n",
    "plt.ylabel('Total Revenue')\n",
    "plt.title('Revenue by Weekday')\n",
    "plt.show()"
   ]
  },
  {
   "cell_type": "markdown",
   "id": "92d27bf5-c9ea-4e07-851e-bf1fcce7414c",
   "metadata": {},
   "source": [
    "## Compare weekend (Saturday & Sunday) revenue to weekday revenue.\n"
   ]
  },
  {
   "cell_type": "markdown",
   "id": "e70d9bc1-bd6d-4c76-8ea9-faa65d2d4fe9",
   "metadata": {},
   "source": [
    "### Calculate weekend revenue"
   ]
  },
  {
   "cell_type": "code",
   "execution_count": 206,
   "id": "1c0ac141-b558-499c-a724-6ee2491ea2cf",
   "metadata": {},
   "outputs": [
    {
     "data": {
      "text/plain": [
       "24893891"
      ]
     },
     "execution_count": 206,
     "metadata": {},
     "output_type": "execute_result"
    }
   ],
   "source": [
    "weekend_revenue = data[data['Weekday'].isin(['Saturday', 'Sunday'])]['Revenue'].sum()\n",
    "weekend_revenue"
   ]
  },
  {
   "cell_type": "markdown",
   "id": "1303f366-e939-4d65-8ac1-d512c85bce17",
   "metadata": {},
   "source": [
    "### Calculate weekday revenue"
   ]
  },
  {
   "cell_type": "code",
   "execution_count": 210,
   "id": "a4fd62a5-8f2b-4c88-bc4c-58b7ab18ce0b",
   "metadata": {},
   "outputs": [
    {
     "data": {
      "text/plain": [
       "60377117"
      ]
     },
     "execution_count": 210,
     "metadata": {},
     "output_type": "execute_result"
    }
   ],
   "source": [
    "weekday_revenue = data[~data['Weekday'].isin(['Saturday', 'Sunday'])]['Revenue'].sum()\n",
    "weekday_revenue"
   ]
  },
  {
   "cell_type": "code",
   "execution_count": 212,
   "id": "7d86495e-0b94-419c-8b05-568a97ec1b7c",
   "metadata": {},
   "outputs": [
    {
     "name": "stdout",
     "output_type": "stream",
     "text": [
      "\n",
      "Total weekend revenue: 24893891\n",
      "Total weekday revenue: 60377117\n"
     ]
    }
   ],
   "source": [
    "print(f\"\\nTotal weekend revenue: {weekend_revenue}\")\n",
    "print(f\"Total weekday revenue: {weekday_revenue}\")"
   ]
  },
  {
   "cell_type": "markdown",
   "id": "d4108de4-2426-4906-a9de-e47dea83e417",
   "metadata": {},
   "source": [
    "### Create a bar chart for comparison"
   ]
  },
  {
   "cell_type": "code",
   "execution_count": 220,
   "id": "3cb32f73-9537-41bd-865e-6ccb9ff43c74",
   "metadata": {},
   "outputs": [
    {
     "data": {
      "image/png": "[encoded data removed]",
      "text/plain": [
       "<Figure size 400x200 with 1 Axes>"
      ]
     },
     "metadata": {},
     "output_type": "display_data"
    }
   ],
   "source": [
    "revenue_types = ['Weekend', 'Weekday']\n",
    "revenues = [weekend_revenue, weekday_revenue]\n",
    "plt.figure(figsize=(4, 2))\n",
    "plt.bar(revenue_types, revenues, color=['skyblue', 'lightcoral'])\n",
    "plt.xlabel(\"Day Type\")\n",
    "plt.ylabel(\"Total Revenue\")\n",
    "plt.title(\"Weekend vs. Weekday Revenue\")\n",
    "plt.show()"
   ]
  },
  {
   "cell_type": "markdown",
   "id": "3ca6a841-37c1-4cb5-9f0b-4d1bfe48fe2e",
   "metadata": {},
   "source": [
    "# Analysis 5: Total Sales from the Specific States"
   ]
  },
  {
   "cell_type": "markdown",
   "id": "73c8d10f-2c2d-4b78-a6fa-4000b78544d7",
   "metadata": {},
   "source": [
    "### Calculate total revenue for the specific state"
   ]
  },
  {
   "cell_type": "code",
   "execution_count": 228,
   "id": "ce8244ea-edc7-499c-b541-44fc50267a13",
   "metadata": {},
   "outputs": [
    {
     "name": "stdout",
     "output_type": "stream",
     "text": [
      "Total revenue for California: 17672620\n"
     ]
    }
   ],
   "source": [
    "state = 'California'\n",
    "if state in data['State'].values:\n",
    "    sales_state = data[data['State'] == state]['Revenue'].sum()\n",
    "    print(f'Total revenue for {state}: {sales_state}')\n",
    "else:\n",
    "    print(f'\\n{state} not found in the dataset. Available states include: {\", \".join(data[\"State\"].unique()[:5])}...')\n"
   ]
  },
  {
   "cell_type": "markdown",
   "id": "4029a58f-adf0-4d29-81e6-42d3527c9789",
   "metadata": {},
   "source": [
    "### Calculate Total Revenue for two other States"
   ]
  },
  {
   "cell_type": "code",
   "execution_count": 231,
   "id": "9412eb77-1d15-42f1-af77-4830664afd7b",
   "metadata": {},
   "outputs": [
    {
     "data": {
      "text/plain": [
       "Index(['Date', 'Day', 'Month', 'Year', 'Customer_Age', 'Age_Group',\n",
       "       'Customer_Gender', 'Country', 'State', 'Product_Category',\n",
       "       'Sub_Category', 'Product', 'Order_Quantity', 'Unit_Cost', 'Unit_Price',\n",
       "       'Profit', 'Cost', 'Revenue', 'Weekday'],\n",
       "      dtype='object')"
      ]
     },
     "execution_count": 231,
     "metadata": {},
     "output_type": "execute_result"
    }
   ],
   "source": [
    "data.columns"
   ]
  },
  {
   "cell_type": "code",
   "execution_count": 233,
   "id": "34911a87-04cf-4c96-be70-0487b2c6c00e",
   "metadata": {},
   "outputs": [
    {
     "data": {
      "text/plain": [
       "array(['British Columbia', 'New South Wales', 'Victoria', 'Oregon',\n",
       "       'California', 'Saarland', 'Seine Saint Denis', 'Moselle',\n",
       "       'Queensland', 'England', 'Nord', 'Washington', 'Hessen',\n",
       "       'Nordrhein-Westfalen', 'Hamburg', 'Loir et Cher', 'Kentucky',\n",
       "       'Seine (Paris)', 'South Australia', 'Loiret', 'Alberta', 'Bayern',\n",
       "       'Hauts de Seine', 'Yveline', 'Essonne', \"Val d'Oise\", 'Tasmania',\n",
       "       'Seine et Marne', 'Val de Marne', 'Pas de Calais',\n",
       "       'Charente-Maritime', 'Garonne (Haute)', 'Brandenburg', 'Texas',\n",
       "       'New York', 'Florida', 'Somme', 'Illinois', 'South Carolina',\n",
       "       'North Carolina', 'Georgia', 'Virginia', 'Ohio', 'Ontario',\n",
       "       'Wyoming', 'Missouri', 'Montana', 'Utah', 'Minnesota',\n",
       "       'Mississippi', 'Massachusetts', 'Arizona', 'Alabama'], dtype=object)"
      ]
     },
     "execution_count": 233,
     "metadata": {},
     "output_type": "execute_result"
    }
   ],
   "source": [
    "data['State'].unique()"
   ]
  },
  {
   "cell_type": "code",
   "execution_count": 235,
   "id": "45617693-2db8-47f7-9530-b4516542db26",
   "metadata": {},
   "outputs": [],
   "source": [
    "states = ['Saarland', 'Seine Saint Denis', 'Moselle']"
   ]
  },
  {
   "cell_type": "code",
   "execution_count": 245,
   "id": "33411de5-fbf5-4961-8087-7e5a0014a6b8",
   "metadata": {},
   "outputs": [
    {
     "name": "stdout",
     "output_type": "stream",
     "text": [
      "\n",
      "Total revenue from Saarland: 2029545\n",
      "\n",
      "Total revenue from Seine Saint Denis: 1131634\n",
      "\n",
      "Total revenue from Moselle: 266223\n"
     ]
    }
   ],
   "source": [
    "for state in states: \n",
    "    if state in data['State'].values:\n",
    "        sales_rev = data[data['State'] == state]['Revenue'].sum()\n",
    "        print(f'\\nTotal revenue from {state}: {sales_rev}')"
   ]
  },
  {
   "cell_type": "markdown",
   "id": "9cc2afd3-a0d2-4b98-a32d-bc2b2a535f17",
   "metadata": {},
   "source": [
    "## Compare revenue across all states using a simple plot"
   ]
  },
  {
   "cell_type": "code",
   "execution_count": 115,
   "id": "d744749b-dd7b-4ea2-92db-7aaad1136ced",
   "metadata": {},
   "outputs": [
    {
     "data": {
      "image/png": "[encoded data removed]",
      "text/plain": [
       "<Figure size 1000x600 with 1 Axes>"
      ]
     },
     "metadata": {},
     "output_type": "display_data"
    }
   ],
   "source": [
    "revenue_by_state = data.groupby('State')['Revenue'].sum()\n",
    "plt.figure(figsize=(10, 6))  \n",
    "plt.bar(revenue_by_state.index, revenue_by_state.values)\n",
    "plt.xlabel(\"State\")\n",
    "plt.ylabel(\"Total Revenue\")\n",
    "plt.title(\"Revenue per State\")\n",
    "plt.xticks(rotation=90)  \n",
    "plt.tight_layout()       \n",
    "plt.show()\n"
   ]
  },
  {
   "cell_type": "markdown",
   "id": "5d52ff11-01ef-4944-8f1a-98f63cf8044c",
   "metadata": {},
   "source": [
    "# Analysis 06: Average Revenue by Gender "
   ]
  },
  {
   "cell_type": "code",
   "execution_count": 118,
   "id": "3008ed48-5199-40d8-ad42-3c4e07646dd7",
   "metadata": {},
   "outputs": [
    {
     "name": "stdout",
     "output_type": "stream",
     "text": [
      "766.310923909071\n"
     ]
    }
   ],
   "source": [
    "avg_revenue_female = data[data['Customer_Gender'] == 'F']['Revenue'].mean()\n",
    "print(avg_revenue_female)"
   ]
  },
  {
   "cell_type": "markdown",
   "id": "d1a8b246-bade-4d4a-a81c-490eb143f177",
   "metadata": {},
   "source": [
    "## Determine the average revenue per transaction for a chosen state"
   ]
  },
  {
   "cell_type": "code",
   "execution_count": 121,
   "id": "163a385e-98c1-4a90-ac83-9e6c88a0b572",
   "metadata": {},
   "outputs": [
    {
     "name": "stdout",
     "output_type": "stream",
     "text": [
      "\n",
      "Average revenue per transaction in California: 787.1991091314031\n"
     ]
    }
   ],
   "source": [
    "state = \"California\"  \n",
    "if state in data['State'].values:\n",
    "    state_data = data[data['State'] == state]\n",
    "    avg_revenue_per_transaction = state_data['Revenue'].mean()\n",
    "    print(f\"\\nAverage revenue per transaction in {state}: {avg_revenue_per_transaction}\")\n",
    "else:\n",
    "    print(f\"\\nState '{state}' not found in the dataset.\")\n"
   ]
  },
  {
   "cell_type": "markdown",
   "id": "720c420c-18fd-466e-87df-ffa0e511915e",
   "metadata": {},
   "source": [
    "## Compute the average revenue from male customers"
   ]
  },
  {
   "cell_type": "code",
   "execution_count": 124,
   "id": "3df8bf52-e8fa-4652-ae6e-391bc3f49102",
   "metadata": {},
   "outputs": [
    {
     "name": "stdout",
     "output_type": "stream",
     "text": [
      "Average revenue from male customers: 743.1645115928111\n"
     ]
    }
   ],
   "source": [
    "avg_revenue_male = data[data['Customer_Gender'] == 'M']['Revenue'].mean()\n",
    "print(f\"Average revenue from male customers: {avg_revenue_male}\")"
   ]
  },
  {
   "cell_type": "markdown",
   "id": "011e4cef-f718-492e-96d8-16c26f87abdf",
   "metadata": {},
   "source": [
    "## Compare the average revenue of male vs. female customers"
   ]
  },
  {
   "cell_type": "code",
   "execution_count": 127,
   "id": "59b05698-221f-42bb-94ca-78fb96249b06",
   "metadata": {},
   "outputs": [
    {
     "name": "stdout",
     "output_type": "stream",
     "text": [
      "Average revenue from female customers: 766.310923909071\n",
      "Comparison (Male vs. Female): 743.16 vs. 766.31\n"
     ]
    }
   ],
   "source": [
    "avg_revenue_female = data[data['Customer_Gender'] == 'F']['Revenue'].mean()\n",
    "print(f\"Average revenue from female customers: {avg_revenue_female}\")\n",
    "print(f\"Comparison (Male vs. Female): {avg_revenue_male:.2f} vs. {avg_revenue_female:.2f}\")"
   ]
  },
  {
   "cell_type": "markdown",
   "id": "d7108783-5427-4d6f-a584-00f251a6f61d",
   "metadata": {},
   "source": [
    "## Calculate the median revenue for female customers"
   ]
  },
  {
   "cell_type": "code",
   "execution_count": 130,
   "id": "4f362798-126c-4ce8-8a42-002d5d648578",
   "metadata": {},
   "outputs": [
    {
     "name": "stdout",
     "output_type": "stream",
     "text": [
      "Median revenue for female customers: 211.0\n"
     ]
    }
   ],
   "source": [
    "median_revenue_female = data[data['Customer_Gender'] == 'F']['Revenue'].median()\n",
    "print(f\"Median revenue for female customers: {median_revenue_female}\")"
   ]
  },
  {
   "cell_type": "markdown",
   "id": "0b7b7424-0143-454c-9651-a0218a61d457",
   "metadata": {},
   "source": [
    "# Analysis 7: Number of Transactions for a Specific Product"
   ]
  },
  {
   "cell_type": "code",
   "execution_count": 133,
   "id": "702e90d3-f603-4414-8163-5a1943a91d94",
   "metadata": {},
   "outputs": [
    {
     "name": "stdout",
     "output_type": "stream",
     "text": [
      "\n",
      "Number of transactions involving Hitch Rack - 4-Bike: 596\n"
     ]
    }
   ],
   "source": [
    "specific_product = \"Hitch Rack - 4-Bike\"\n",
    "if specific_product in data['Product'].values:\n",
    "    product_count = data[data['Product'] == specific_product].shape[0]\n",
    "    print(f\"\\nNumber of transactions involving {specific_product}: {product_count}\")\n",
    "else:\n",
    "    print(f\"\\n{specific_product} not found in the dataset. Sample products include: {', '.join(df['Product'].unique()[:3])}...\")\n"
   ]
  },
  {
   "cell_type": "markdown",
   "id": "ef39be24-2c61-4692-8695-6c5dc569d949",
   "metadata": {},
   "source": [
    "## Count the number of transactions for a specific product"
   ]
  },
  {
   "cell_type": "code",
   "execution_count": 136,
   "id": "144c3f59-28c0-4e61-a773-8ca0ce9d0ae9",
   "metadata": {},
   "outputs": [
    {
     "name": "stdout",
     "output_type": "stream",
     "text": [
      "'Mountain Bike' not found in the dataset.\n"
     ]
    }
   ],
   "source": [
    "product_name = \"Mountain Bike\"  # change this to your desired product\n",
    "\n",
    "if product_name in data['Product'].values:\n",
    "    product_count = data[data['Product'] == product_name].shape[0]\n",
    "    print(f\"The number of transactions for '{product_name}' is {product_count}.\")\n",
    "else:\n",
    "    print(f\"'{product_name}' not found in the dataset.\")\n"
   ]
  },
  {
   "cell_type": "markdown",
   "id": "38edf836-1193-4586-beff-e3ef33e6f018",
   "metadata": {},
   "source": [
    "## Compare the count of transactions between two different products."
   ]
  },
  {
   "cell_type": "code",
   "execution_count": 139,
   "id": "78cc3600-7800-45d2-85bb-e54074b2c13c",
   "metadata": {},
   "outputs": [
    {
     "name": "stdout",
     "output_type": "stream",
     "text": [
      "Transactions for 'Mountain Bike': 0\n",
      "Transactions for 'Road Bike': 0\n",
      "'Mountain Bike' and 'Road Bike' have the same number of transactions.\n"
     ]
    }
   ],
   "source": [
    "product1 = \"Mountain Bike\"\n",
    "product2 = \"Road Bike\"\n",
    "\n",
    "count1 = data[data['Product'] == product1].shape[0]\n",
    "count2 = data[data['Product'] == product2].shape[0]\n",
    "\n",
    "print(f\"Transactions for '{product1}': {count1}\")\n",
    "print(f\"Transactions for '{product2}': {count2}\")\n",
    "\n",
    "if count1 > count2:\n",
    "    print(f\"'{product1}' has more transactions.\")\n",
    "elif count2 > count1:\n",
    "    print(f\"'{product2}' has more transactions.\")\n",
    "else:\n",
    "    print(f\"'{product1}' and '{product2}' have the same number of transactions.\")\n"
   ]
  },
  {
   "cell_type": "markdown",
   "id": "46dd1202-10e1-4ef3-babf-b53dca2e8744",
   "metadata": {},
   "source": [
    "## Calculate the proportion of transactions for a specific product to total transactions."
   ]
  },
  {
   "cell_type": "code",
   "execution_count": 142,
   "id": "3d1d9789-cf94-4cf7-8f08-40c4bcef65ed",
   "metadata": {},
   "outputs": [
    {
     "name": "stdout",
     "output_type": "stream",
     "text": [
      "The proportion of transactions for 'Mountain Bike' is 0.00%.\n"
     ]
    }
   ],
   "source": [
    "product_name = \"Mountain Bike\"\n",
    "total_transactions = data.shape[0]\n",
    "product_transactions = data[data['Product'] == product_name].shape[0]\n",
    "\n",
    "if total_transactions > 0:\n",
    "    proportion = product_transactions / total_transactions\n",
    "    print(f\"The proportion of transactions for '{product_name}' is {proportion:.2%}.\")\n",
    "else:\n",
    "    print(\"No transactions in the dataset.\")\n"
   ]
  },
  {
   "cell_type": "markdown",
   "id": "d5610c20-cdb3-428a-a6e6-7b7e6e5e0539",
   "metadata": {},
   "source": [
    "## Identify transactions for a specific product that exceed a certain revenue."
   ]
  },
  {
   "cell_type": "code",
   "execution_count": 151,
   "id": "77ff2d75-be31-4f3f-8505-31b8a78c322e",
   "metadata": {},
   "outputs": [
    {
     "name": "stdout",
     "output_type": "stream",
     "text": [
      "Transactions for 'Mountain Bike' with revenue above 500:\n",
      "Empty DataFrame\n",
      "Columns: [Date, Day, Month, Year, Customer_Age, Age_Group, Customer_Gender, Country, State, Product_Category, Sub_Category, Product, Order_Quantity, Unit_Cost, Unit_Price, Profit, Cost, Revenue]\n",
      "Index: []\n"
     ]
    }
   ],
   "source": [
    "product_name = \"Mountain Bike\"\n",
    "revenue_threshold = 500  \n",
    "\n",
    "high_revenue_data = data[(data['Product'] == product_name) & (data['Revenue'] > revenue_threshold)]\n",
    "\n",
    "print(f\"Transactions for '{product_name}' with revenue above {revenue_threshold}:\")\n",
    "print(high_revenue_data)\n"
   ]
  },
  {
   "cell_type": "markdown",
   "id": "61135bc3-933e-4cfc-a078-aa42dc53a629",
   "metadata": {},
   "source": [
    "## Filter transactions for a specific product by year and count them."
   ]
  },
  {
   "cell_type": "code",
   "execution_count": 156,
   "id": "bdde5664-0938-429d-bbe3-68a31ace1237",
   "metadata": {},
   "outputs": [
    {
     "name": "stdout",
     "output_type": "stream",
     "text": [
      "There are 0 'Mountain Bike' transactions in the year 2021.\n"
     ]
    }
   ],
   "source": [
    "product_name = \"Mountain Bike\"\n",
    "year_to_filter = 2021  \n",
    "\n",
    "year_filtered_df = data[(data['Product'] == product_name) & (data['Year'] == year_to_filter)]\n",
    "year_count = year_filtered_df.shape[0]\n",
    "\n",
    "print(f\"There are {year_count} '{product_name}' transactions in the year {year_to_filter}.\")\n"
   ]
  },
  {
   "cell_type": "markdown",
   "id": "92fd7c5e-5b88-4b6f-a85e-89c817d768ed",
   "metadata": {},
   "source": [
    "# Analysis 8: Find the most sold category"
   ]
  },
  {
   "cell_type": "code",
   "execution_count": 159,
   "id": "4771a4f2-dc7b-4f69-b9e5-9757879bfde8",
   "metadata": {},
   "outputs": [
    {
     "name": "stdout",
     "output_type": "stream",
     "text": [
      "\n",
      "Most sold product category: Accessories\n"
     ]
    }
   ],
   "source": [
    "most_sold_category = data['Product_Category'].value_counts().idxmax()\n",
    "print(f\"\\nMost sold product category: {most_sold_category}\")\n"
   ]
  },
  {
   "cell_type": "markdown",
   "id": "06663001-56cb-475d-86ac-fa9b1cc36d69",
   "metadata": {},
   "source": [
    "## List product categories in descending order of transaction frequency"
   ]
  },
  {
   "cell_type": "code",
   "execution_count": 162,
   "id": "e7c99b1c-55ab-49e7-bdf0-1f9b6bb3609e",
   "metadata": {},
   "outputs": [
    {
     "name": "stdout",
     "output_type": "stream",
     "text": [
      "Product categories in order of transaction frequency:\n",
      "Product_Category\n",
      "Accessories    70120\n",
      "Bikes          25982\n",
      "Clothing       16934\n",
      "Name: count, dtype: int64\n"
     ]
    }
   ],
   "source": [
    "category_counts = data['Product_Category'].value_counts()\n",
    "print(\"Product categories in order of transaction frequency:\")\n",
    "print(category_counts)\n"
   ]
  },
  {
   "cell_type": "markdown",
   "id": "0d858cbc-0cdd-49fd-bca6-eeba1b20f630",
   "metadata": {},
   "source": [
    "## Find the product category with the second highest transaction frequency"
   ]
  },
  {
   "cell_type": "code",
   "execution_count": 165,
   "id": "be9ae2a1-d474-4cc7-84e4-195e5c941c36",
   "metadata": {},
   "outputs": [
    {
     "name": "stdout",
     "output_type": "stream",
     "text": [
      "Second most sold product category: Bikes with 25982 transactions.\n"
     ]
    }
   ],
   "source": [
    "category_counts = data['Product_Category'].value_counts()\n",
    "\n",
    "if len(category_counts) < 2:\n",
    "    print(\"Not enough categories to determine the second highest frequency.\")\n",
    "else:\n",
    "    second_most_sold_category = category_counts.index[1]\n",
    "    second_most_sold_count = category_counts.values[1]\n",
    "    print(f\"Second most sold product category: {second_most_sold_category} \"\n",
    "          f\"with {second_most_sold_count} transactions.\")\n"
   ]
  },
  {
   "cell_type": "markdown",
   "id": "72eb094a-bd42-468d-a1ff-bb26cc8f52c3",
   "metadata": {},
   "source": [
    "# Analysis 9: Sales by age group"
   ]
  },
  {
   "cell_type": "markdown",
   "id": "10979921-5740-4465-8872-49b18fe78a14",
   "metadata": {},
   "source": [
    "## Compare total sales made by different age groups"
   ]
  },
  {
   "cell_type": "code",
   "execution_count": 169,
   "id": "dbc79eda-9d5d-43f9-b523-42cb398b98ee",
   "metadata": {},
   "outputs": [
    {
     "name": "stdout",
     "output_type": "stream",
     "text": [
      "\n",
      "Total sales by age group:\n",
      "42584153\n",
      "308042\n",
      "30655614\n",
      "11723199\n"
     ]
    }
   ],
   "source": [
    "age_group_sales = data.groupby('Age_Group')['Revenue'].sum()\n",
    "print(\"\\nTotal sales by age group:\")\n",
    "for age_group, sales in age_group_sales.items():\n",
    "  print(sales)\n"
   ]
  },
  {
   "cell_type": "markdown",
   "id": "db273c8a-0a36-4a25-983f-ee99768809b2",
   "metadata": {},
   "source": [
    "## Number of transactions per age group\n"
   ]
  },
  {
   "cell_type": "code",
   "execution_count": 173,
   "id": "a7fc36a0-9305-4e87-85aa-d2e204345f91",
   "metadata": {},
   "outputs": [
    {
     "name": "stdout",
     "output_type": "stream",
     "text": [
      "Number of transactions per age group:\n",
      "Age_Group\n",
      "Adults (35-64)          55824\n",
      "Seniors (64+)             730\n",
      "Young Adults (25-34)    38654\n",
      "Youth (<25)             17828\n",
      "Name: Revenue, dtype: int64\n"
     ]
    }
   ],
   "source": [
    "transactions_by_age_group = data.groupby('Age_Group')['Revenue'].count()\n",
    "print(\"Number of transactions per age group:\")\n",
    "print(transactions_by_age_group)\n"
   ]
  },
  {
   "cell_type": "markdown",
   "id": "8c0f7dc3-7ef3-4e14-b0c7-e6c501df7f2e",
   "metadata": {},
   "source": [
    "## Average revenue by age group"
   ]
  },
  {
   "cell_type": "code",
   "execution_count": 180,
   "id": "07ed3476-e348-4a14-907b-a19449d973d9",
   "metadata": {},
   "outputs": [
    {
     "name": "stdout",
     "output_type": "stream",
     "text": [
      "\n",
      "Average revenue by age group:\n",
      "Age_Group\n",
      "Adults (35-64)          762.828765\n",
      "Seniors (64+)           421.975342\n",
      "Young Adults (25-34)    793.077405\n",
      "Youth (<25)             657.572302\n",
      "Name: Revenue, dtype: float64\n"
     ]
    }
   ],
   "source": [
    "\n",
    "average_revenue_by_age_group = data.groupby('Age_Group')['Revenue'].mean()\n",
    "print(\"\\nAverage revenue by age group:\")\n",
    "print(average_revenue_by_age_group)\n"
   ]
  },
  {
   "cell_type": "markdown",
   "id": "8a5bfd32-748a-40aa-b145-dd8eedba9771",
   "metadata": {},
   "source": [
    "## Filter transactions by age group and revenue threshold"
   ]
  },
  {
   "cell_type": "code",
   "execution_count": 185,
   "id": "57888a58-7fbd-4bc2-b316-2b93fe4101d5",
   "metadata": {},
   "outputs": [
    {
     "name": "stdout",
     "output_type": "stream",
     "text": [
      "\n",
      "Transactions for 'Young Adults (18-34)' with revenue above 500:\n",
      "Empty DataFrame\n",
      "Columns: [Date, Day, Month, Year, Customer_Age, Age_Group, Customer_Gender, Country, State, Product_Category, Sub_Category, Product, Order_Quantity, Unit_Cost, Unit_Price, Profit, Cost, Revenue]\n",
      "Index: []\n"
     ]
    }
   ],
   "source": [
    "\n",
    "target_age_group = 'Young Adults (18-34)'  \n",
    "revenue_threshold = 500\n",
    "\n",
    "filtered_df = data[\n",
    "    (data['Age_Group'] == target_age_group) &\n",
    "    (data['Revenue'] > revenue_threshold)\n",
    "]\n",
    "\n",
    "print(f\"\\nTransactions for '{target_age_group}' with revenue above {revenue_threshold}:\")\n",
    "print(filtered_df)\n"
   ]
  },
  {
   "cell_type": "markdown",
   "id": "896bbcc2-76d9-45b3-a1b3-214cb8dcc9ff",
   "metadata": {},
   "source": [
    "## Pie chart of revenue contribution by age group"
   ]
  },
  {
   "cell_type": "code",
   "execution_count": 188,
   "id": "edbb1447-6343-4896-94ad-b6fd91a616a7",
   "metadata": {},
   "outputs": [
    {
     "data": {
      "image/png": "[encoded data removed]",
      "text/plain": [
       "<Figure size 640x480 with 1 Axes>"
      ]
     },
     "metadata": {},
     "output_type": "display_data"
    }
   ],
   "source": [
    "age_group_sales = data.groupby('Age_Group')['Revenue'].sum()\n",
    "age_group_sales.plot(kind='pie', autopct='%1.1f%%', startangle=140)\n",
    "\n",
    "plt.title(\"Revenue Contribution by Age Group\")\n",
    "plt.ylabel(\"\")  \n",
    "plt.show()\n"
   ]
  },
  {
   "cell_type": "markdown",
   "id": "96c297d7-ad7e-46d8-a010-a8c28c2642b8",
   "metadata": {},
   "source": [
    "# Analysis 10: Find the Least Sold Product Sub-Category"
   ]
  },
  {
   "cell_type": "code",
   "execution_count": 191,
   "id": "b9ec466a-33be-4e34-8389-ad513550b960",
   "metadata": {},
   "outputs": [
    {
     "name": "stdout",
     "output_type": "stream",
     "text": [
      "\n",
      "Least sold product sub-category: Bike Stands\n"
     ]
    }
   ],
   "source": [
    "least_sold_subcategory = data['Sub_Category'].value_counts().idxmin()\n",
    "print(f\"\\nLeast sold product sub-category: {least_sold_subcategory}\")\n"
   ]
  },
  {
   "cell_type": "markdown",
   "id": "6f9130b7-8d20-4bd8-a171-f046917676d9",
   "metadata": {},
   "source": [
    "## List sub-categories in ascending order of frequency"
   ]
  },
  {
   "cell_type": "code",
   "execution_count": 194,
   "id": "ed1a57e1-166c-4924-959b-b2b84b6a1d07",
   "metadata": {},
   "outputs": [
    {
     "name": "stdout",
     "output_type": "stream",
     "text": [
      "Product sub-categories in ascending order of frequency:\n",
      "Sub_Category\n",
      "Bike Stands            456\n",
      "Bike Racks             592\n",
      "Vests                  964\n",
      "Socks                 1122\n",
      "Hydration Packs       1334\n",
      "Shorts                1794\n",
      "Cleaners              1802\n",
      "Gloves                2686\n",
      "Touring Bikes         3698\n",
      "Fenders               4032\n",
      "Caps                  4358\n",
      "Jerseys               6010\n",
      "Mountain Bikes        8854\n",
      "Helmets              12158\n",
      "Road Bikes           13430\n",
      "Bottles and Cages    15876\n",
      "Tires and Tubes      33870\n",
      "Name: count, dtype: int64\n"
     ]
    }
   ],
   "source": [
    "subcat_counts_ascending = data['Sub_Category'].value_counts(ascending=True)\n",
    "print(\"Product sub-categories in ascending order of frequency:\")\n",
    "print(subcat_counts_ascending)\n"
   ]
  },
  {
   "cell_type": "markdown",
   "id": "e6598f92-3088-4a30-a1f5-3df3e8a9898c",
   "metadata": {},
   "source": [
    "## Find the least sold sub-category"
   ]
  },
  {
   "cell_type": "code",
   "execution_count": 197,
   "id": "fbf2f52a-bb9f-434e-9faa-5d67973f2303",
   "metadata": {},
   "outputs": [
    {
     "name": "stdout",
     "output_type": "stream",
     "text": [
      "Total revenue for the least sold product sub-category (Bike Stands): 344075\n"
     ]
    }
   ],
   "source": [
    "\n",
    "least_sold_subcategory = data['Sub_Category'].value_counts().idxmin()\n",
    "\n",
    "\n",
    "least_sold_subcat_revenue = data[data['Sub_Category'] == least_sold_subcategory]['Revenue'].sum()\n",
    "print(f\"Total revenue for the least sold product sub-category ({least_sold_subcategory}): {least_sold_subcat_revenue}\")\n"
   ]
  },
  {
   "cell_type": "markdown",
   "id": "b09f8546-2628-4ef1-8e34-d629f4467775",
   "metadata": {},
   "source": [
    "## Identify least sold and most sold sub-categories"
   ]
  },
  {
   "cell_type": "code",
   "execution_count": 200,
   "id": "d33e59b7-9f3c-48b8-ba85-d5763bb9fe02",
   "metadata": {},
   "outputs": [
    {
     "name": "stdout",
     "output_type": "stream",
     "text": [
      "Number of transactions for the least sold sub-category by year:\n",
      "Year\n",
      "2013    119\n",
      "2014    109\n",
      "2015    119\n",
      "2016    109\n",
      "dtype: int64\n"
     ]
    }
   ],
   "source": [
    "least_sold_subcategory = data['Sub_Category'].value_counts().idxmin()\n",
    "transactions_by_year_least_sold = (\n",
    "    data[data['Sub_Category'] == least_sold_subcategory]\n",
    "    .groupby('Year')\n",
    "    .size() \n",
    ")\n",
    "\n",
    "print(\"Number of transactions for the least sold sub-category by year:\")\n",
    "print(transactions_by_year_least_sold)\n"
   ]
  },
  {
   "cell_type": "markdown",
   "id": "3cd327f7-91be-477d-a73c-d6ef1c916994",
   "metadata": {},
   "source": [
    "## Plot a bar chart highlighting the least sold product sub-category compared to others."
   ]
  },
  {
   "cell_type": "code",
   "execution_count": 204,
   "id": "bd792979-0cf7-4c3a-befd-68f7a5aa2f71",
   "metadata": {},
   "outputs": [
    {
     "data": {
      "image/png": "[encoded data removed]",
      "text/plain": [
       "<Figure size 1000x600 with 1 Axes>"
      ]
     },
     "metadata": {},
     "output_type": "display_data"
    }
   ],
   "source": [
    "subcat_counts = data['Sub_Category'].value_counts()\n",
    "subcat_counts_df = subcat_counts.reset_index()\n",
    "subcat_counts_df.columns = ['Sub_Category', 'Count']\n",
    "least_sold_subcategory = data['Sub_Category'].value_counts().idxmin()\n",
    "\n",
    "plt.figure(figsize=(10, 6))\n",
    "bars = plt.bar(subcat_counts_df['Sub_Category'], subcat_counts_df['Count'])\n",
    "for i, subcat in enumerate(subcat_counts_df['Sub_Category']):\n",
    "    if subcat == least_sold_subcategory:\n",
    "        bars[i].set_color('red')  \n",
    "\n",
    "plt.xticks(rotation=45, ha='right')\n",
    "plt.xlabel(\"Product Sub-Category\")\n",
    "plt.ylabel(\"Frequency (Number of Sales)\")\n",
    "plt.title(\"Frequency of Product Sub-Categories (Highlighting Least Sold)\")\n",
    "plt.tight_layout()\n",
    "plt.show()\n"
   ]
  },
  {
   "cell_type": "markdown",
   "id": "e34c641f-8524-48dc-8ab0-772f65e83f6d",
   "metadata": {},
   "source": [
    "# Analysis 11: Find the Most Common Age Group"
   ]
  },
  {
   "cell_type": "code",
   "execution_count": 208,
   "id": "48f0d366-b88f-4577-a3c7-4220f2faf351",
   "metadata": {},
   "outputs": [
    {
     "name": "stdout",
     "output_type": "stream",
     "text": [
      "\n",
      "Most common age group: Adults (35-64)\n"
     ]
    }
   ],
   "source": [
    "most_common_age_group = data['Age_Group'].value_counts().idxmax()\n",
    "print(f\"\\nMost common age group: {most_common_age_group}\")\n"
   ]
  },
  {
   "cell_type": "markdown",
   "id": "c77be3fe-9208-4bc5-9c31-72a91839eb7b",
   "metadata": {},
   "source": [
    "## List age groups and their counts"
   ]
  },
  {
   "cell_type": "code",
   "execution_count": 211,
   "id": "cc21af7a-4489-4c6e-ac95-477687572fec",
   "metadata": {},
   "outputs": [
    {
     "name": "stdout",
     "output_type": "stream",
     "text": [
      "Age groups and their counts:\n",
      "Age_Group\n",
      "Adults (35-64)          55824\n",
      "Young Adults (25-34)    38654\n",
      "Youth (<25)             17828\n",
      "Seniors (64+)             730\n",
      "Name: count, dtype: int64\n"
     ]
    }
   ],
   "source": [
    "age_group_counts = data['Age_Group'].value_counts()\n",
    "print(\"Age groups and their counts:\")\n",
    "print(age_group_counts)\n"
   ]
  },
  {
   "cell_type": "markdown",
   "id": "769f4ddd-2fb7-4bd2-b3c2-1f50ccf99bbe",
   "metadata": {},
   "source": [
    "## Identify the least common age group"
   ]
  },
  {
   "cell_type": "code",
   "execution_count": 214,
   "id": "b6c2ed4a-a7eb-4d4e-8644-74db62437ab0",
   "metadata": {},
   "outputs": [
    {
     "name": "stdout",
     "output_type": "stream",
     "text": [
      "\n",
      "Least common age group: Seniors (64+)\n"
     ]
    }
   ],
   "source": [
    "least_common_age_group = data['Age_Group'].value_counts().idxmin()\n",
    "print(f\"\\nLeast common age group: {least_common_age_group}\")\n"
   ]
  },
  {
   "cell_type": "markdown",
   "id": "58f74ae4-5020-4244-ac74-23a879cdf1c5",
   "metadata": {},
   "source": [
    "## Calculate total revenue by age group"
   ]
  },
  {
   "cell_type": "code",
   "execution_count": 217,
   "id": "96124a70-61ce-45fb-abf0-95b9f54a4f7e",
   "metadata": {},
   "outputs": [
    {
     "name": "stdout",
     "output_type": "stream",
     "text": [
      "\n",
      "Total revenue by age group:\n",
      "Age_Group\n",
      "Adults (35-64)          42584153\n",
      "Seniors (64+)             308042\n",
      "Young Adults (25-34)    30655614\n",
      "Youth (<25)             11723199\n",
      "Name: Revenue, dtype: int64\n"
     ]
    }
   ],
   "source": [
    "total_revenue_by_age_group = data.groupby('Age_Group')['Revenue'].sum()\n",
    "print(\"\\nTotal revenue by age group:\")\n",
    "print(total_revenue_by_age_group)\n"
   ]
  },
  {
   "cell_type": "markdown",
   "id": "db2add23-370f-47be-a32a-c5743b3743b6",
   "metadata": {},
   "source": [
    "## Bar chart of age group frequency"
   ]
  },
  {
   "cell_type": "code",
   "execution_count": 224,
   "id": "11784ff3-42d9-4751-900e-accc918ff1cc",
   "metadata": {},
   "outputs": [
    {
     "data": {
      "image/png": "[encoded data removed]",
      "text/plain": [
       "<Figure size 800x500 with 1 Axes>"
      ]
     },
     "metadata": {},
     "output_type": "display_data"
    }
   ],
   "source": [
    "age_group_counts = data['Age_Group'].value_counts()\n",
    "plt.figure(figsize=(8, 5))\n",
    "plt.bar(age_group_counts.index, age_group_counts.values, color='pink')\n",
    "plt.xlabel(\"Age Group\")\n",
    "plt.ylabel(\"Frequency (Number of Transactions)\")\n",
    "plt.title(\"Frequency of Each Age Group\")\n",
    "plt.xticks(rotation=45, ha='left')\n",
    "plt.tight_layout()\n",
    "plt.show()\n"
   ]
  },
  {
   "cell_type": "markdown",
   "id": "a6b1be21-31bf-4dea-bbb1-4454e302031b",
   "metadata": {},
   "source": [
    "# Analysis 13: Sales Comparison: Different Years "
   ]
  },
  {
   "cell_type": "code",
   "execution_count": 227,
   "id": "5201d974-67d8-43a7-a277-74b27d9096ba",
   "metadata": {},
   "outputs": [
    {
     "name": "stdout",
     "output_type": "stream",
     "text": [
      "\n",
      "Sales by Year:\n",
      "Year 2011: 8964888\n",
      "Year 2012: 9175983\n",
      "Year 2013: 15240037\n",
      "Year 2014: 14152724\n",
      "Year 2015: 20023991\n",
      "Year 2016: 17713385\n"
     ]
    }
   ],
   "source": [
    "year_sales = data.groupby('Year')['Revenue'].sum()\n",
    "print(\"\\nSales by Year:\")\n",
    "for year, sales in year_sales.items():\n",
    "    print(f\"Year {year}: {sales}\")\n"
   ]
  },
  {
   "cell_type": "markdown",
   "id": "6d539f85-478e-4f2d-a7cc-467859279417",
   "metadata": {},
   "source": [
    "## Calculate total revenue for each year-month combination\n"
   ]
  },
  {
   "cell_type": "code",
   "execution_count": 230,
   "id": "e1f599fe-aac5-4f6a-a76d-e3d50ba842fa",
   "metadata": {},
   "outputs": [
    {
     "name": "stdout",
     "output_type": "stream",
     "text": [
      "Total revenue for each year-month combination:\n",
      "Year  Month   \n",
      "2011  April        698782\n",
      "      August       880037\n",
      "      December    1132666\n",
      "      February     637598\n",
      "      January      675193\n",
      "                   ...   \n",
      "2016  January     2553065\n",
      "      July         499960\n",
      "      June        3586300\n",
      "      March       2608663\n",
      "      May         3264343\n",
      "Name: Revenue, Length: 62, dtype: int64\n"
     ]
    }
   ],
   "source": [
    "year_month_sales = data.groupby(['Year', 'Month'])['Revenue'].sum()\n",
    "\n",
    "print(\"Total revenue for each year-month combination:\")\n",
    "print(year_month_sales)\n",
    "\n"
   ]
  },
  {
   "cell_type": "markdown",
   "id": "ac120828-4bbe-4d99-9077-e76250d67292",
   "metadata": {},
   "source": [
    "## Determine the year with the highest sales"
   ]
  },
  {
   "cell_type": "code",
   "execution_count": 235,
   "id": "8acdd02a-6ff6-4e13-8d6b-682db11cf051",
   "metadata": {},
   "outputs": [
    {
     "name": "stdout",
     "output_type": "stream",
     "text": [
      "20023991\n"
     ]
    }
   ],
   "source": [
    "year_sales = data.groupby('Year')['Revenue'].sum()\n",
    "max_sales_year = year_sales.idxmax()\n",
    "max_sales_value = year_sales.max()\n",
    "print(max_sales_value)"
   ]
  },
  {
   "cell_type": "markdown",
   "id": "72f7294d-b410-4b32-ac53-06b0f1230d1a",
   "metadata": {},
   "source": [
    "## Plot a bar chart of total revenue by year"
   ]
  },
  {
   "cell_type": "code",
   "execution_count": 245,
   "id": "3ee82726-b13c-4514-8dad-f05896cbea2d",
   "metadata": {},
   "outputs": [
    {
     "data": {
      "image/png": "[encoded data removed]",
      "text/plain": [
       "<Figure size 800x500 with 1 Axes>"
      ]
     },
     "metadata": {},
     "output_type": "display_data"
    }
   ],
   "source": [
    "year_sales = data.groupby('Year')['Revenue'].sum()\n",
    "plt.figure(figsize=(8, 5))\n",
    "plt.bar(year_sales.index, year_sales.values, color='gray')\n",
    "plt.xlabel(\"Year\")\n",
    "plt.ylabel(\"Total Revenue\")\n",
    "plt.title(\"Total Revenue by Year\")\n",
    "plt.xticks(year_sales.index, rotation=60, ha='right') \n",
    "plt.tight_layout()\n",
    "plt.show()\n"
   ]
  },
  {
   "cell_type": "markdown",
   "id": "bf57ddc0-843b-4ed0-add9-583b89e354e8",
   "metadata": {},
   "source": [
    "## Average revenue per transaction by year"
   ]
  },
  {
   "cell_type": "code",
   "execution_count": 248,
   "id": "e55f94ca-1e8e-45a3-8ea0-ebfa3e973b26",
   "metadata": {},
   "outputs": [
    {
     "name": "stdout",
     "output_type": "stream",
     "text": [
      "Average revenue per transaction by year:\n",
      "Year\n",
      "2011    3348.856182\n",
      "2012    3427.711244\n",
      "2013     623.492902\n",
      "2014     481.417920\n",
      "2015     819.211676\n",
      "2016     602.537077\n",
      "Name: Revenue, dtype: float64\n"
     ]
    }
   ],
   "source": [
    "average_revenue_by_year = data.groupby('Year')['Revenue'].mean()\n",
    "print(\"Average revenue per transaction by year:\")\n",
    "print(average_revenue_by_year)\n"
   ]
  },
  {
   "cell_type": "markdown",
   "id": "d169f86e-970e-43a2-a233-12e8fa4c0acc",
   "metadata": {},
   "source": [
    "# Analysis 13: Highest Profit by Product Category\n"
   ]
  },
  {
   "cell_type": "code",
   "execution_count": 251,
   "id": "98588fdf-5b96-43be-8f27-fb56caf019f3",
   "metadata": {},
   "outputs": [
    {
     "name": "stdout",
     "output_type": "stream",
     "text": [
      "\n",
      "Highest profit product category: Bikes\n"
     ]
    }
   ],
   "source": [
    "highest_profit_category = data.groupby('Product_Category')['Profit'].sum().idxmax()\n",
    "print(f\"\\nHighest profit product category: {highest_profit_category}\")\n"
   ]
  },
  {
   "cell_type": "markdown",
   "id": "df0881e6-82a4-4e3b-a6c9-0a62b05725c2",
   "metadata": {},
   "source": [
    "## Print total profit for each product category"
   ]
  },
  {
   "cell_type": "code",
   "execution_count": 254,
   "id": "6e6cbfb5-aa85-4930-ad4c-eabde602f6ac",
   "metadata": {},
   "outputs": [
    {
     "name": "stdout",
     "output_type": "stream",
     "text": [
      "Total profit by product category:\n",
      "Product_Category\n",
      "Accessories     8862377\n",
      "Bikes          20519276\n",
      "Clothing        2839447\n",
      "Name: Profit, dtype: int64\n"
     ]
    }
   ],
   "source": [
    "profit_by_category = data.groupby('Product_Category')['Profit'].sum()\n",
    "print(\"Total profit by product category:\")\n",
    "print(profit_by_category)\n"
   ]
  },
  {
   "cell_type": "markdown",
   "id": "f50e9896-e916-4c24-9c37-1e56ea43eb2c",
   "metadata": {},
   "source": [
    "## Calculate profit margin for each product category"
   ]
  },
  {
   "cell_type": "code",
   "execution_count": 257,
   "id": "1996772c-defd-400f-867e-a60c6716ce34",
   "metadata": {},
   "outputs": [
    {
     "name": "stdout",
     "output_type": "stream",
     "text": [
      "\n",
      "Average profit margin by product category:\n",
      "Product_Category\n",
      "Accessories    0.564864\n",
      "Bikes          0.326013\n",
      "Clothing       0.314919\n",
      "Name: Profit_Margin, dtype: float64\n"
     ]
    }
   ],
   "source": [
    "data['Profit_Margin'] = data['Profit'] / data['Revenue']\n",
    "profit_margin_by_category = data.groupby('Product_Category')['Profit_Margin'].mean()\n",
    "\n",
    "print(\"\\nAverage profit margin by product category:\")\n",
    "print(profit_margin_by_category)\n"
   ]
  },
  {
   "cell_type": "markdown",
   "id": "0742da3a-4d7f-4d6d-9ef8-8dfbcb91fcc1",
   "metadata": {},
   "source": [
    "## Bar chart of total profit by product category"
   ]
  },
  {
   "cell_type": "code",
   "execution_count": 262,
   "id": "3a0457d6-0358-4454-ae14-98f89ae8a7bf",
   "metadata": {},
   "outputs": [
    {
     "data": {
      "image/png": "[encoded data removed]",
      "text/plain": [
       "<Figure size 800x500 with 1 Axes>"
      ]
     },
     "metadata": {},
     "output_type": "display_data"
    }
   ],
   "source": [
    "profit_by_category = data.groupby('Product_Category')['Profit'].sum()\n",
    "plt.figure(figsize=(8, 5))\n",
    "plt.bar(profit_by_category.index, profit_by_category.values, color='pink')\n",
    "plt.xlabel(\"Product Category\")\n",
    "plt.ylabel(\"Total Profit\")\n",
    "plt.title(\"Total Profit by Product Category\")\n",
    "plt.xticks(rotation=60, ha='right')\n",
    "plt.tight_layout()\n",
    "plt.show()\n"
   ]
  },
  {
   "cell_type": "markdown",
   "id": "b82b6dc4-d69c-4b7d-a448-4723ea6bd830",
   "metadata": {},
   "source": [
    "# Analysis 14: Find the Most Profitable Transaction"
   ]
  },
  {
   "cell_type": "code",
   "execution_count": 267,
   "id": "fec30a8f-2d9e-4b7a-a239-067ce4b97390",
   "metadata": {},
   "outputs": [
    {
     "name": "stdout",
     "output_type": "stream",
     "text": [
      "\n",
      "Most expensive transaction details:\n",
      "Date                             2015-07-24\n",
      "Day                                      24\n",
      "Month                                  July\n",
      "Year                                   2015\n",
      "Customer_Age                             52\n",
      "Age_Group                    Adults (35-64)\n",
      "Customer_Gender                           M\n",
      "Country                           Australia\n",
      "State                            Queensland\n",
      "Product_Category                   Clothing\n",
      "Sub_Category                          Vests\n",
      "Product             Touring-1000 Yellow, 50\n",
      "Order_Quantity                           29\n",
      "Unit_Cost                              1482\n",
      "Unit_Price                             2384\n",
      "Profit                                15096\n",
      "Cost                                  42978\n",
      "Revenue                               58074\n",
      "Profit_Margin                      0.259944\n",
      "Name: 112073, dtype: object\n"
     ]
    }
   ],
   "source": [
    "most_expensive = data.loc[data['Revenue'].idxmax()]\n",
    "print(\"\\nMost expensive transaction details:\")\n",
    "print(most_expensive)\n"
   ]
  },
  {
   "cell_type": "code",
   "execution_count": 269,
   "id": "f9bdfa2f-3996-41d9-a1c7-0f77d028f674",
   "metadata": {},
   "outputs": [
    {
     "name": "stdout",
     "output_type": "stream",
     "text": [
      "\n",
      "Transactions with profit above 1000:\n",
      "              Date  Day      Month  Year  Customer_Age             Age_Group  \\\n",
      "2       2014-03-23   23      March  2014            49        Adults (35-64)   \n",
      "3       2016-03-23   23      March  2016            49        Adults (35-64)   \n",
      "8       2014-02-22   22   February  2014            35        Adults (35-64)   \n",
      "9       2016-02-22   22   February  2016            35        Adults (35-64)   \n",
      "30      2014-03-13   13      March  2014            48        Adults (35-64)   \n",
      "...            ...  ...        ...   ...           ...                   ...   \n",
      "112978  2013-09-08    8  September  2013            31  Young Adults (25-34)   \n",
      "112979  2015-09-08    8  September  2015            31  Young Adults (25-34)   \n",
      "112994  2013-10-25   25    October  2013            37        Adults (35-64)   \n",
      "113022  2014-03-20   20      March  2014            34  Young Adults (25-34)   \n",
      "113023  2016-03-20   20      March  2016            34  Young Adults (25-34)   \n",
      "\n",
      "       Customer_Gender        Country             State Product_Category  \\\n",
      "2                    M      Australia   New South Wales      Accessories   \n",
      "3                    M      Australia   New South Wales      Accessories   \n",
      "8                    M      Australia          Victoria      Accessories   \n",
      "9                    M      Australia          Victoria      Accessories   \n",
      "30                   F         Canada  British Columbia      Accessories   \n",
      "...                ...            ...               ...              ...   \n",
      "112978               M         France           Essonne         Clothing   \n",
      "112979               M         France           Essonne         Clothing   \n",
      "112994               F  United States        California         Clothing   \n",
      "113022               M  United States        California         Clothing   \n",
      "113023               M  United States        California         Clothing   \n",
      "\n",
      "       Sub_Category              Product  Order_Quantity  Unit_Cost  \\\n",
      "2        Bike Racks  Hitch Rack - 4-Bike              23         45   \n",
      "3        Bike Racks  Hitch Rack - 4-Bike              20         45   \n",
      "8        Bike Racks  Hitch Rack - 4-Bike              22         45   \n",
      "9        Bike Racks  Hitch Rack - 4-Bike              21         45   \n",
      "30       Bike Racks  Hitch Rack - 4-Bike              20         45   \n",
      "...             ...                  ...             ...        ...   \n",
      "112978        Vests      Classic Vest, M              29         24   \n",
      "112979        Vests      Classic Vest, M              28         24   \n",
      "112994        Vests      Classic Vest, S              28         24   \n",
      "113022        Vests      Classic Vest, S              28         24   \n",
      "113023        Vests      Classic Vest, S              26         24   \n",
      "\n",
      "        Unit_Price  Profit  Cost  Revenue  Profit_Margin  \n",
      "2              120    1366  1035     2401       0.568930  \n",
      "3              120    1188   900     2088       0.568966  \n",
      "8              120    1096   990     2086       0.525407  \n",
      "9              120    1046   945     1991       0.525364  \n",
      "30             120    1476   900     2376       0.621212  \n",
      "...            ...     ...   ...      ...            ...  \n",
      "112978          64    1086   696     1782       0.609428  \n",
      "112979          64    1048   672     1720       0.609302  \n",
      "112994          64    1084   672     1756       0.617312  \n",
      "113022          64    1084   672     1756       0.617312  \n",
      "113023          64    1007   624     1631       0.617413  \n",
      "\n",
      "[6653 rows x 19 columns]\n"
     ]
    }
   ],
   "source": [
    "\n",
    "profit_threshold = 1000  \n",
    "\n",
    "high_profit_transactions = data[data['Profit'] > profit_threshold]\n",
    "print(f\"\\nTransactions with profit above {profit_threshold}:\")\n",
    "print(high_profit_transactions)\n"
   ]
  },
  {
   "cell_type": "code",
   "execution_count": 271,
   "id": "e2e7474a-6e95-4b28-89ac-d91c1407274e",
   "metadata": {},
   "outputs": [
    {
     "data": {
      "image/png": "[encoded data removed]",
      "text/plain": [
       "<Figure size 1000x600 with 1 Axes>"
      ]
     },
     "metadata": {},
     "output_type": "display_data"
    }
   ],
   "source": [
    "top_10_profitable = data.nlargest(10, 'Profit')\n",
    "\n",
    "plt.figure(figsize=(10, 6))\n",
    "plt.bar(top_10_profitable.index.astype(str), top_10_profitable['Profit'], color='green')\n",
    "plt.xlabel(\"Transaction Index\")\n",
    "plt.ylabel(\"Profit\")\n",
    "plt.title(\"Top 10 Most Profitable Transactions\")\n",
    "plt.xticks(rotation=45)\n",
    "plt.tight_layout()\n",
    "plt.show()\n"
   ]
  },
  {
   "cell_type": "code",
   "execution_count": null,
   "id": "4b7d3f21-d89d-49ea-aa05-2ca4a217e32a",
   "metadata": {},
   "outputs": [],
   "source": []
  }
 ],
 "metadata": {
  "kernelspec": {
   "display_name": "Python 3 (ipykernel)",
   "language": "python",
   "name": "python3"
  },
  "language_info": {
   "codemirror_mode": {
    "name": "ipython",
    "version": 3
   },
   "file_extension": ".py",
   "mimetype": "text/x-python",
   "name": "python",
   "nbconvert_exporter": "python",
   "pygments_lexer": "ipython3",
   "version": "3.12.4"
  }
 },
 "nbformat": 4,
 "nbformat_minor": 5
}
